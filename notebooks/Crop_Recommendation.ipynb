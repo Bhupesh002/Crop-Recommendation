{
  "nbformat": 4,
  "nbformat_minor": 0,
  "metadata": {
    "colab": {
      "name": "Crop Recommendation.ipynb",
      "provenance": [],
      "collapsed_sections": []
    },
    "kernelspec": {
      "name": "python3",
      "display_name": "Python 3"
    },
    "language_info": {
      "name": "python"
    }
  },
  "cells": [
    {
      "cell_type": "markdown",
      "metadata": {
        "id": "X4N9mouSd8uX"
      },
      "source": [
        "# **Crop Recommendation**"
      ]
    },
    {
      "cell_type": "code",
      "metadata": {
        "id": "D4gZj3ume3mj"
      },
      "source": [
        "# Importing libraries\n",
        "\n",
        "from __future__ import print_function\n",
        "import pandas as pd\n",
        "import numpy as np\n",
        "import matplotlib.pyplot as plt\n",
        "import seaborn as sns\n",
        "from sklearn.metrics import classification_report\n",
        "from sklearn import metrics\n",
        "from sklearn import tree\n",
        "import warnings\n",
        "warnings.filterwarnings('ignore')"
      ],
      "execution_count": 81,
      "outputs": []
    },
    {
      "cell_type": "markdown",
      "metadata": {
        "id": "O5ki9nAvd_b3"
      },
      "source": [
        "# Data Analysis"
      ]
    },
    {
      "cell_type": "code",
      "metadata": {
        "id": "GD7hf7eJdRCa"
      },
      "source": [
        "# Reading the data \n",
        "\n",
        "crop_data_path = '/content/drive/MyDrive/CSE305-ML/project/cpdata.csv'\n",
        "fertilizer_data_path = '/content/drive/MyDrive/CSE305-ML/project/Fertilizer.csv'\n",
        "\n",
        "crop = pd.read_csv(crop_data_path)\n",
        "fert = pd.read_csv(fertilizer_data_path)"
      ],
      "execution_count": 82,
      "outputs": []
    },
    {
      "cell_type": "code",
      "metadata": {
        "id": "OOph0HfEdRCc",
        "colab": {
          "base_uri": "https://localhost:8080/",
          "height": 206
        },
        "outputId": "1f1b4c41-f64a-4d40-b83c-2df8cc50a903"
      },
      "source": [
        "crop.head()"
      ],
      "execution_count": 83,
      "outputs": [
        {
          "output_type": "execute_result",
          "data": {
            "text/html": [
              "<div>\n",
              "<style scoped>\n",
              "    .dataframe tbody tr th:only-of-type {\n",
              "        vertical-align: middle;\n",
              "    }\n",
              "\n",
              "    .dataframe tbody tr th {\n",
              "        vertical-align: top;\n",
              "    }\n",
              "\n",
              "    .dataframe thead th {\n",
              "        text-align: right;\n",
              "    }\n",
              "</style>\n",
              "<table border=\"1\" class=\"dataframe\">\n",
              "  <thead>\n",
              "    <tr style=\"text-align: right;\">\n",
              "      <th></th>\n",
              "      <th>temperature</th>\n",
              "      <th>humidity</th>\n",
              "      <th>ph</th>\n",
              "      <th>rainfall</th>\n",
              "      <th>label</th>\n",
              "    </tr>\n",
              "  </thead>\n",
              "  <tbody>\n",
              "    <tr>\n",
              "      <th>0</th>\n",
              "      <td>20.879744</td>\n",
              "      <td>82.002744</td>\n",
              "      <td>6.502985</td>\n",
              "      <td>202.935536</td>\n",
              "      <td>rice</td>\n",
              "    </tr>\n",
              "    <tr>\n",
              "      <th>1</th>\n",
              "      <td>21.770462</td>\n",
              "      <td>80.319644</td>\n",
              "      <td>7.038096</td>\n",
              "      <td>226.655537</td>\n",
              "      <td>rice</td>\n",
              "    </tr>\n",
              "    <tr>\n",
              "      <th>2</th>\n",
              "      <td>23.004459</td>\n",
              "      <td>82.320763</td>\n",
              "      <td>7.840207</td>\n",
              "      <td>263.964248</td>\n",
              "      <td>rice</td>\n",
              "    </tr>\n",
              "    <tr>\n",
              "      <th>3</th>\n",
              "      <td>26.491096</td>\n",
              "      <td>80.158363</td>\n",
              "      <td>6.980401</td>\n",
              "      <td>242.864034</td>\n",
              "      <td>rice</td>\n",
              "    </tr>\n",
              "    <tr>\n",
              "      <th>4</th>\n",
              "      <td>20.130175</td>\n",
              "      <td>81.604873</td>\n",
              "      <td>7.628473</td>\n",
              "      <td>262.717340</td>\n",
              "      <td>rice</td>\n",
              "    </tr>\n",
              "  </tbody>\n",
              "</table>\n",
              "</div>"
            ],
            "text/plain": [
              "   temperature   humidity        ph    rainfall label\n",
              "0    20.879744  82.002744  6.502985  202.935536  rice\n",
              "1    21.770462  80.319644  7.038096  226.655537  rice\n",
              "2    23.004459  82.320763  7.840207  263.964248  rice\n",
              "3    26.491096  80.158363  6.980401  242.864034  rice\n",
              "4    20.130175  81.604873  7.628473  262.717340  rice"
            ]
          },
          "metadata": {},
          "execution_count": 83
        }
      ]
    },
    {
      "cell_type": "code",
      "metadata": {
        "colab": {
          "base_uri": "https://localhost:8080/",
          "height": 206
        },
        "id": "H_dSwqd6n7fk",
        "outputId": "b4d54dbd-1026-45af-b7bf-82d980f1a1d9"
      },
      "source": [
        "crop.tail()"
      ],
      "execution_count": 84,
      "outputs": [
        {
          "output_type": "execute_result",
          "data": {
            "text/html": [
              "<div>\n",
              "<style scoped>\n",
              "    .dataframe tbody tr th:only-of-type {\n",
              "        vertical-align: middle;\n",
              "    }\n",
              "\n",
              "    .dataframe tbody tr th {\n",
              "        vertical-align: top;\n",
              "    }\n",
              "\n",
              "    .dataframe thead th {\n",
              "        text-align: right;\n",
              "    }\n",
              "</style>\n",
              "<table border=\"1\" class=\"dataframe\">\n",
              "  <thead>\n",
              "    <tr style=\"text-align: right;\">\n",
              "      <th></th>\n",
              "      <th>temperature</th>\n",
              "      <th>humidity</th>\n",
              "      <th>ph</th>\n",
              "      <th>rainfall</th>\n",
              "      <th>label</th>\n",
              "    </tr>\n",
              "  </thead>\n",
              "  <tbody>\n",
              "    <tr>\n",
              "      <th>3095</th>\n",
              "      <td>25.287846</td>\n",
              "      <td>89.636679</td>\n",
              "      <td>6.765095</td>\n",
              "      <td>58.286977</td>\n",
              "      <td>watermelon</td>\n",
              "    </tr>\n",
              "    <tr>\n",
              "      <th>3096</th>\n",
              "      <td>26.638386</td>\n",
              "      <td>84.695469</td>\n",
              "      <td>6.189214</td>\n",
              "      <td>48.324286</td>\n",
              "      <td>watermelon</td>\n",
              "    </tr>\n",
              "    <tr>\n",
              "      <th>3097</th>\n",
              "      <td>25.331045</td>\n",
              "      <td>84.305338</td>\n",
              "      <td>6.904242</td>\n",
              "      <td>41.532187</td>\n",
              "      <td>watermelon</td>\n",
              "    </tr>\n",
              "    <tr>\n",
              "      <th>3098</th>\n",
              "      <td>26.897502</td>\n",
              "      <td>83.892415</td>\n",
              "      <td>6.463271</td>\n",
              "      <td>43.971937</td>\n",
              "      <td>watermelon</td>\n",
              "    </tr>\n",
              "    <tr>\n",
              "      <th>3099</th>\n",
              "      <td>26.986037</td>\n",
              "      <td>89.413849</td>\n",
              "      <td>6.260839</td>\n",
              "      <td>58.548767</td>\n",
              "      <td>watermelon</td>\n",
              "    </tr>\n",
              "  </tbody>\n",
              "</table>\n",
              "</div>"
            ],
            "text/plain": [
              "      temperature   humidity        ph   rainfall       label\n",
              "3095    25.287846  89.636679  6.765095  58.286977  watermelon\n",
              "3096    26.638386  84.695469  6.189214  48.324286  watermelon\n",
              "3097    25.331045  84.305338  6.904242  41.532187  watermelon\n",
              "3098    26.897502  83.892415  6.463271  43.971937  watermelon\n",
              "3099    26.986037  89.413849  6.260839  58.548767  watermelon"
            ]
          },
          "metadata": {},
          "execution_count": 84
        }
      ]
    },
    {
      "cell_type": "code",
      "metadata": {
        "id": "C6GeyhAVdRCh",
        "colab": {
          "base_uri": "https://localhost:8080/",
          "height": 206
        },
        "outputId": "a7e2e309-49e8-4ae4-aff9-f6f6883df4e3"
      },
      "source": [
        "fert.head()"
      ],
      "execution_count": 85,
      "outputs": [
        {
          "output_type": "execute_result",
          "data": {
            "text/html": [
              "<div>\n",
              "<style scoped>\n",
              "    .dataframe tbody tr th:only-of-type {\n",
              "        vertical-align: middle;\n",
              "    }\n",
              "\n",
              "    .dataframe tbody tr th {\n",
              "        vertical-align: top;\n",
              "    }\n",
              "\n",
              "    .dataframe thead th {\n",
              "        text-align: right;\n",
              "    }\n",
              "</style>\n",
              "<table border=\"1\" class=\"dataframe\">\n",
              "  <thead>\n",
              "    <tr style=\"text-align: right;\">\n",
              "      <th></th>\n",
              "      <th>Unnamed: 0</th>\n",
              "      <th>Crop</th>\n",
              "      <th>N</th>\n",
              "      <th>P</th>\n",
              "      <th>K</th>\n",
              "      <th>pH</th>\n",
              "    </tr>\n",
              "  </thead>\n",
              "  <tbody>\n",
              "    <tr>\n",
              "      <th>0</th>\n",
              "      <td>0</td>\n",
              "      <td>Rice</td>\n",
              "      <td>80</td>\n",
              "      <td>40</td>\n",
              "      <td>40</td>\n",
              "      <td>5.5</td>\n",
              "    </tr>\n",
              "    <tr>\n",
              "      <th>1</th>\n",
              "      <td>1</td>\n",
              "      <td>Jowar(Sorghum)</td>\n",
              "      <td>80</td>\n",
              "      <td>40</td>\n",
              "      <td>40</td>\n",
              "      <td>5.5</td>\n",
              "    </tr>\n",
              "    <tr>\n",
              "      <th>2</th>\n",
              "      <td>2</td>\n",
              "      <td>Barley(JAV)</td>\n",
              "      <td>70</td>\n",
              "      <td>40</td>\n",
              "      <td>45</td>\n",
              "      <td>5.5</td>\n",
              "    </tr>\n",
              "    <tr>\n",
              "      <th>3</th>\n",
              "      <td>3</td>\n",
              "      <td>Maize</td>\n",
              "      <td>80</td>\n",
              "      <td>40</td>\n",
              "      <td>20</td>\n",
              "      <td>5.5</td>\n",
              "    </tr>\n",
              "    <tr>\n",
              "      <th>4</th>\n",
              "      <td>4</td>\n",
              "      <td>Ragi( naachnnii)</td>\n",
              "      <td>50</td>\n",
              "      <td>40</td>\n",
              "      <td>20</td>\n",
              "      <td>5.5</td>\n",
              "    </tr>\n",
              "  </tbody>\n",
              "</table>\n",
              "</div>"
            ],
            "text/plain": [
              "   Unnamed: 0              Crop   N   P   K   pH\n",
              "0           0              Rice  80  40  40  5.5\n",
              "1           1    Jowar(Sorghum)  80  40  40  5.5\n",
              "2           2       Barley(JAV)  70  40  45  5.5\n",
              "3           3             Maize  80  40  20  5.5\n",
              "4           4  Ragi( naachnnii)  50  40  20  5.5"
            ]
          },
          "metadata": {},
          "execution_count": 85
        }
      ]
    },
    {
      "cell_type": "code",
      "metadata": {
        "colab": {
          "base_uri": "https://localhost:8080/",
          "height": 300
        },
        "id": "zV3zl4BWn8kp",
        "outputId": "3803b86f-7b5c-4b62-ff18-5a34c638a743"
      },
      "source": [
        "crop.describe()"
      ],
      "execution_count": 86,
      "outputs": [
        {
          "output_type": "execute_result",
          "data": {
            "text/html": [
              "<div>\n",
              "<style scoped>\n",
              "    .dataframe tbody tr th:only-of-type {\n",
              "        vertical-align: middle;\n",
              "    }\n",
              "\n",
              "    .dataframe tbody tr th {\n",
              "        vertical-align: top;\n",
              "    }\n",
              "\n",
              "    .dataframe thead th {\n",
              "        text-align: right;\n",
              "    }\n",
              "</style>\n",
              "<table border=\"1\" class=\"dataframe\">\n",
              "  <thead>\n",
              "    <tr style=\"text-align: right;\">\n",
              "      <th></th>\n",
              "      <th>temperature</th>\n",
              "      <th>humidity</th>\n",
              "      <th>ph</th>\n",
              "      <th>rainfall</th>\n",
              "    </tr>\n",
              "  </thead>\n",
              "  <tbody>\n",
              "    <tr>\n",
              "      <th>count</th>\n",
              "      <td>3100.000000</td>\n",
              "      <td>3100.000000</td>\n",
              "      <td>3100.000000</td>\n",
              "      <td>3100.000000</td>\n",
              "    </tr>\n",
              "    <tr>\n",
              "      <th>mean</th>\n",
              "      <td>27.108466</td>\n",
              "      <td>66.005312</td>\n",
              "      <td>6.368913</td>\n",
              "      <td>110.213031</td>\n",
              "    </tr>\n",
              "    <tr>\n",
              "      <th>std</th>\n",
              "      <td>7.566308</td>\n",
              "      <td>24.007713</td>\n",
              "      <td>0.809477</td>\n",
              "      <td>64.048562</td>\n",
              "    </tr>\n",
              "    <tr>\n",
              "      <th>min</th>\n",
              "      <td>8.825675</td>\n",
              "      <td>10.034048</td>\n",
              "      <td>3.504752</td>\n",
              "      <td>20.211267</td>\n",
              "    </tr>\n",
              "    <tr>\n",
              "      <th>25%</th>\n",
              "      <td>22.810495</td>\n",
              "      <td>55.244920</td>\n",
              "      <td>5.895343</td>\n",
              "      <td>64.909095</td>\n",
              "    </tr>\n",
              "    <tr>\n",
              "      <th>50%</th>\n",
              "      <td>26.102848</td>\n",
              "      <td>68.980529</td>\n",
              "      <td>6.342518</td>\n",
              "      <td>97.057093</td>\n",
              "    </tr>\n",
              "    <tr>\n",
              "      <th>75%</th>\n",
              "      <td>29.365644</td>\n",
              "      <td>84.446524</td>\n",
              "      <td>6.841616</td>\n",
              "      <td>141.210784</td>\n",
              "    </tr>\n",
              "    <tr>\n",
              "      <th>max</th>\n",
              "      <td>54.986760</td>\n",
              "      <td>99.981876</td>\n",
              "      <td>9.935091</td>\n",
              "      <td>397.315380</td>\n",
              "    </tr>\n",
              "  </tbody>\n",
              "</table>\n",
              "</div>"
            ],
            "text/plain": [
              "       temperature     humidity           ph     rainfall\n",
              "count  3100.000000  3100.000000  3100.000000  3100.000000\n",
              "mean     27.108466    66.005312     6.368913   110.213031\n",
              "std       7.566308    24.007713     0.809477    64.048562\n",
              "min       8.825675    10.034048     3.504752    20.211267\n",
              "25%      22.810495    55.244920     5.895343    64.909095\n",
              "50%      26.102848    68.980529     6.342518    97.057093\n",
              "75%      29.365644    84.446524     6.841616   141.210784\n",
              "max      54.986760    99.981876     9.935091   397.315380"
            ]
          },
          "metadata": {},
          "execution_count": 86
        }
      ]
    },
    {
      "cell_type": "code",
      "metadata": {
        "colab": {
          "base_uri": "https://localhost:8080/",
          "height": 300
        },
        "id": "GFoIwqICsPze",
        "outputId": "52011a69-e243-412e-c87d-9ca3592a875f"
      },
      "source": [
        "fert.describe()"
      ],
      "execution_count": 87,
      "outputs": [
        {
          "output_type": "execute_result",
          "data": {
            "text/html": [
              "<div>\n",
              "<style scoped>\n",
              "    .dataframe tbody tr th:only-of-type {\n",
              "        vertical-align: middle;\n",
              "    }\n",
              "\n",
              "    .dataframe tbody tr th {\n",
              "        vertical-align: top;\n",
              "    }\n",
              "\n",
              "    .dataframe thead th {\n",
              "        text-align: right;\n",
              "    }\n",
              "</style>\n",
              "<table border=\"1\" class=\"dataframe\">\n",
              "  <thead>\n",
              "    <tr style=\"text-align: right;\">\n",
              "      <th></th>\n",
              "      <th>Unnamed: 0</th>\n",
              "      <th>N</th>\n",
              "      <th>P</th>\n",
              "      <th>K</th>\n",
              "      <th>pH</th>\n",
              "    </tr>\n",
              "  </thead>\n",
              "  <tbody>\n",
              "    <tr>\n",
              "      <th>count</th>\n",
              "      <td>1843.000000</td>\n",
              "      <td>1843.000000</td>\n",
              "      <td>1843.000000</td>\n",
              "      <td>1843.000000</td>\n",
              "      <td>1843.000000</td>\n",
              "    </tr>\n",
              "    <tr>\n",
              "      <th>mean</th>\n",
              "      <td>921.000000</td>\n",
              "      <td>59.896907</td>\n",
              "      <td>43.453608</td>\n",
              "      <td>45.463918</td>\n",
              "      <td>5.588660</td>\n",
              "    </tr>\n",
              "    <tr>\n",
              "      <th>std</th>\n",
              "      <td>532.172591</td>\n",
              "      <td>36.328744</td>\n",
              "      <td>27.065517</td>\n",
              "      <td>36.130181</td>\n",
              "      <td>0.755267</td>\n",
              "    </tr>\n",
              "    <tr>\n",
              "      <th>min</th>\n",
              "      <td>0.000000</td>\n",
              "      <td>10.000000</td>\n",
              "      <td>10.000000</td>\n",
              "      <td>10.000000</td>\n",
              "      <td>2.920000</td>\n",
              "    </tr>\n",
              "    <tr>\n",
              "      <th>25%</th>\n",
              "      <td>460.500000</td>\n",
              "      <td>20.000000</td>\n",
              "      <td>20.000000</td>\n",
              "      <td>20.000000</td>\n",
              "      <td>5.080000</td>\n",
              "    </tr>\n",
              "    <tr>\n",
              "      <th>50%</th>\n",
              "      <td>921.000000</td>\n",
              "      <td>50.000000</td>\n",
              "      <td>40.000000</td>\n",
              "      <td>40.000000</td>\n",
              "      <td>5.560000</td>\n",
              "    </tr>\n",
              "    <tr>\n",
              "      <th>75%</th>\n",
              "      <td>1381.500000</td>\n",
              "      <td>90.000000</td>\n",
              "      <td>60.000000</td>\n",
              "      <td>60.000000</td>\n",
              "      <td>6.320000</td>\n",
              "    </tr>\n",
              "    <tr>\n",
              "      <th>max</th>\n",
              "      <td>1842.000000</td>\n",
              "      <td>180.000000</td>\n",
              "      <td>125.000000</td>\n",
              "      <td>200.000000</td>\n",
              "      <td>6.680000</td>\n",
              "    </tr>\n",
              "  </tbody>\n",
              "</table>\n",
              "</div>"
            ],
            "text/plain": [
              "        Unnamed: 0            N            P            K           pH\n",
              "count  1843.000000  1843.000000  1843.000000  1843.000000  1843.000000\n",
              "mean    921.000000    59.896907    43.453608    45.463918     5.588660\n",
              "std     532.172591    36.328744    27.065517    36.130181     0.755267\n",
              "min       0.000000    10.000000    10.000000    10.000000     2.920000\n",
              "25%     460.500000    20.000000    20.000000    20.000000     5.080000\n",
              "50%     921.000000    50.000000    40.000000    40.000000     5.560000\n",
              "75%    1381.500000    90.000000    60.000000    60.000000     6.320000\n",
              "max    1842.000000   180.000000   125.000000   200.000000     6.680000"
            ]
          },
          "metadata": {},
          "execution_count": 87
        }
      ]
    },
    {
      "cell_type": "markdown",
      "metadata": {
        "id": "TfUYFZPugwdU"
      },
      "source": [
        "# Preprocessing"
      ]
    },
    {
      "cell_type": "code",
      "metadata": {
        "id": "C6OJIzZIdRCl"
      },
      "source": [
        "# Function for lowering the cases\n",
        "def change_case(i):\n",
        "    i = i.replace(\" \", \"\")\n",
        "    i = i.lower()\n",
        "    return i"
      ],
      "execution_count": 88,
      "outputs": []
    },
    {
      "cell_type": "code",
      "metadata": {
        "id": "NeNbvAZMdRCo"
      },
      "source": [
        "fert['Crop'] = fert['Crop'].apply(change_case)\n",
        "crop['label'] = crop['label'].apply(change_case)"
      ],
      "execution_count": 89,
      "outputs": []
    },
    {
      "cell_type": "code",
      "metadata": {
        "id": "jlo8luxPdRCq"
      },
      "source": [
        "#make some changes in ferttilizer dataset\n",
        "\n",
        "fert['Crop'] = fert['Crop'].replace('mungbeans','mungbean')\n",
        "fert['Crop'] = fert['Crop'].replace('lentils(masoordal)','lentil')\n",
        "fert['Crop'] = fert['Crop'].replace('pigeonpeas(toordal)','pigeonpeas')\n",
        "fert['Crop'] = fert['Crop'].replace('mothbean(matki)','mothbeans')\n",
        "fert['Crop'] = fert['Crop'].replace('chickpeas(channa)','chickpea')"
      ],
      "execution_count": 90,
      "outputs": []
    },
    {
      "cell_type": "code",
      "metadata": {
        "id": "87nYknjwdRCy",
        "colab": {
          "base_uri": "https://localhost:8080/"
        },
        "outputId": "bf9c9f18-9547-4aca-829a-062e25cb5cb2"
      },
      "source": [
        "crop_names = crop['label'].unique()\n",
        "crop_names"
      ],
      "execution_count": 91,
      "outputs": [
        {
          "output_type": "execute_result",
          "data": {
            "text/plain": [
              "array(['rice', 'wheat', 'mungbean', 'tea', 'millet', 'maize', 'lentil',\n",
              "       'jute', 'coffee', 'cotton', 'groundnut', 'peas', 'rubber',\n",
              "       'sugarcane', 'tobacco', 'kidneybeans', 'mothbeans', 'coconut',\n",
              "       'blackgram', 'adzukibeans', 'pigeonpeas', 'chickpea', 'banana',\n",
              "       'grapes', 'apple', 'mango', 'muskmelon', 'orange', 'papaya',\n",
              "       'pomegranate', 'watermelon'], dtype=object)"
            ]
          },
          "metadata": {},
          "execution_count": 91
        }
      ]
    },
    {
      "cell_type": "code",
      "metadata": {
        "id": "kCwQWinldRCz",
        "colab": {
          "base_uri": "https://localhost:8080/",
          "height": 206
        },
        "outputId": "2d6a72df-7053-4503-e2dc-388adc3e7193"
      },
      "source": [
        "fert.head()"
      ],
      "execution_count": 92,
      "outputs": [
        {
          "output_type": "execute_result",
          "data": {
            "text/html": [
              "<div>\n",
              "<style scoped>\n",
              "    .dataframe tbody tr th:only-of-type {\n",
              "        vertical-align: middle;\n",
              "    }\n",
              "\n",
              "    .dataframe tbody tr th {\n",
              "        vertical-align: top;\n",
              "    }\n",
              "\n",
              "    .dataframe thead th {\n",
              "        text-align: right;\n",
              "    }\n",
              "</style>\n",
              "<table border=\"1\" class=\"dataframe\">\n",
              "  <thead>\n",
              "    <tr style=\"text-align: right;\">\n",
              "      <th></th>\n",
              "      <th>Unnamed: 0</th>\n",
              "      <th>Crop</th>\n",
              "      <th>N</th>\n",
              "      <th>P</th>\n",
              "      <th>K</th>\n",
              "      <th>pH</th>\n",
              "    </tr>\n",
              "  </thead>\n",
              "  <tbody>\n",
              "    <tr>\n",
              "      <th>0</th>\n",
              "      <td>0</td>\n",
              "      <td>rice</td>\n",
              "      <td>80</td>\n",
              "      <td>40</td>\n",
              "      <td>40</td>\n",
              "      <td>5.5</td>\n",
              "    </tr>\n",
              "    <tr>\n",
              "      <th>1</th>\n",
              "      <td>1</td>\n",
              "      <td>jowar(sorghum)</td>\n",
              "      <td>80</td>\n",
              "      <td>40</td>\n",
              "      <td>40</td>\n",
              "      <td>5.5</td>\n",
              "    </tr>\n",
              "    <tr>\n",
              "      <th>2</th>\n",
              "      <td>2</td>\n",
              "      <td>barley(jav)</td>\n",
              "      <td>70</td>\n",
              "      <td>40</td>\n",
              "      <td>45</td>\n",
              "      <td>5.5</td>\n",
              "    </tr>\n",
              "    <tr>\n",
              "      <th>3</th>\n",
              "      <td>3</td>\n",
              "      <td>maize</td>\n",
              "      <td>80</td>\n",
              "      <td>40</td>\n",
              "      <td>20</td>\n",
              "      <td>5.5</td>\n",
              "    </tr>\n",
              "    <tr>\n",
              "      <th>4</th>\n",
              "      <td>4</td>\n",
              "      <td>ragi(naachnnii)</td>\n",
              "      <td>50</td>\n",
              "      <td>40</td>\n",
              "      <td>20</td>\n",
              "      <td>5.5</td>\n",
              "    </tr>\n",
              "  </tbody>\n",
              "</table>\n",
              "</div>"
            ],
            "text/plain": [
              "   Unnamed: 0             Crop   N   P   K   pH\n",
              "0           0             rice  80  40  40  5.5\n",
              "1           1   jowar(sorghum)  80  40  40  5.5\n",
              "2           2      barley(jav)  70  40  45  5.5\n",
              "3           3            maize  80  40  20  5.5\n",
              "4           4  ragi(naachnnii)  50  40  20  5.5"
            ]
          },
          "metadata": {},
          "execution_count": 92
        }
      ]
    },
    {
      "cell_type": "code",
      "metadata": {
        "id": "As-XOxOddRC0"
      },
      "source": [
        "del fert['Unnamed: 0']"
      ],
      "execution_count": 93,
      "outputs": []
    },
    {
      "cell_type": "code",
      "metadata": {
        "id": "PR4DN78GdRC1",
        "colab": {
          "base_uri": "https://localhost:8080/"
        },
        "outputId": "6a365e76-8a2b-4ee9-bd9e-a93cab3a443b"
      },
      "source": [
        "crop_names_from_fert = fert['Crop'].unique()\n",
        "crop_names_from_fert"
      ],
      "execution_count": 94,
      "outputs": [
        {
          "output_type": "execute_result",
          "data": {
            "text/plain": [
              "array(['rice', 'jowar(sorghum)', 'barley(jav)', 'maize',\n",
              "       'ragi(naachnnii)', 'chickpea', 'frenchbeans(farasbi)',\n",
              "       'favabeans(papdi-val)', 'limabeans(pavta)', 'clusterbeans(gavar)',\n",
              "       'soyabean', 'blackeyedbeans(chawli)', 'kidneybeans', 'pigeonpeas',\n",
              "       'mothbeans', 'mungbean', 'greenpeas', 'horsegram(kulthi)',\n",
              "       'blackgram', 'rapeseed(mohri)', 'corianderseeds', 'mustardseeds',\n",
              "       'sesameseed', 'cuminseeds', 'lentil', 'brinjal', 'beetroot',\n",
              "       'bittergourd', 'bottlegourd', 'capsicum', 'cabbage', 'carrot',\n",
              "       'cauliflower', 'cucumber', 'corianderleaves', 'curryleaves',\n",
              "       'drumstick–moringa', 'chili', 'ladyfinger', 'mushroom', 'onion',\n",
              "       'potato', 'pumpkin', 'radish', 'olive', 'sweetpotato',\n",
              "       'fenugreekleaf(methi)', 'spinach', 'ridgegourd',\n",
              "       'gooseberry(amla)', 'jambun(syzygiumcumini)',\n",
              "       'ziziphusmauritiana(bor)', 'garciniaindica(kokam)', 'tamarind',\n",
              "       'tapioca(suran)', 'garlic', 'lemon', 'tomato', 'ashgourd',\n",
              "       'pineapple', 'pomegranate', 'banana', 'mango', 'grapes',\n",
              "       'jackfruit', 'guava', 'watermelon', 'muskmelon', 'apricot',\n",
              "       'apple', 'chickoo', 'custardapple', 'dates', 'figs', 'orange',\n",
              "       'papaya', 'aniseed', 'asafoetida', 'bayleaf', 'blackpepper',\n",
              "       'cardamom', 'cinnamon', 'cloves', 'jaiphal(nutmeg)', 'ginger',\n",
              "       'turmeric', 'cashewnuts', 'raisins', 'coconut', 'almondnut',\n",
              "       'arecanut', 'pistachionut', 'lemongrass', 'cotton', 'jute',\n",
              "       'coffee', 'sunflower'], dtype=object)"
            ]
          },
          "metadata": {},
          "execution_count": 94
        }
      ]
    },
    {
      "cell_type": "code",
      "metadata": {
        "id": "5PyKIMmpdRC2",
        "colab": {
          "base_uri": "https://localhost:8080/"
        },
        "outputId": "0780921b-0e02-49e8-84b2-d5ef45d3d3e0"
      },
      "source": [
        "for i in crop_names_from_fert:\n",
        "    print(crop[crop['label'] == i])"
      ],
      "execution_count": 95,
      "outputs": [
        {
          "output_type": "stream",
          "name": "stdout",
          "text": [
            "    temperature   humidity        ph    rainfall label\n",
            "0     20.879744  82.002744  6.502985  202.935536  rice\n",
            "1     21.770462  80.319644  7.038096  226.655537  rice\n",
            "2     23.004459  82.320763  7.840207  263.964248  rice\n",
            "3     26.491096  80.158363  6.980401  242.864034  rice\n",
            "4     20.130175  81.604873  7.628473  262.717340  rice\n",
            "..          ...        ...       ...         ...   ...\n",
            "95    22.683191  83.463583  6.604993  194.265172  rice\n",
            "96    21.533463  82.140041  6.500343  295.924880  rice\n",
            "97    21.408658  83.329319  5.935745  287.576694  rice\n",
            "98    26.543481  84.673536  7.072656  183.622266  rice\n",
            "99    23.359054  83.595123  5.333323  188.413665  rice\n",
            "\n",
            "[100 rows x 5 columns]\n",
            "Empty DataFrame\n",
            "Columns: [temperature, humidity, ph, rainfall, label]\n",
            "Index: []\n",
            "Empty DataFrame\n",
            "Columns: [temperature, humidity, ph, rainfall, label]\n",
            "Index: []\n",
            "     temperature   humidity        ph    rainfall  label\n",
            "500    22.613600  63.690706  5.749914   87.759539  maize\n",
            "501    26.100184  71.574769  6.931757  102.266244  maize\n",
            "502    23.558821  71.593514  6.657965   66.719955  maize\n",
            "503    19.972160  57.682729  6.596061   60.651715  maize\n",
            "504    18.478913  62.695039  5.970458   65.438354  maize\n",
            "..           ...        ...       ...         ...    ...\n",
            "595    18.928519  72.800861  6.158860   82.341629  maize\n",
            "596    23.305468  63.246480  6.385684  108.760300  maize\n",
            "597    18.748267  62.498785  6.417820   70.234016  maize\n",
            "598    19.742133  59.662631  6.381202   65.508614  maize\n",
            "599    25.730444  70.747393  6.877869   98.737713  maize\n",
            "\n",
            "[100 rows x 5 columns]\n",
            "Empty DataFrame\n",
            "Columns: [temperature, humidity, ph, rainfall, label]\n",
            "Index: []\n",
            "      temperature   humidity        ph   rainfall     label\n",
            "2100    17.024985  16.988612  7.485996  88.551231  chickpea\n",
            "2101    19.020613  17.131591  6.920251  79.926981  chickpea\n",
            "2102    17.887765  15.405897  5.996932  68.549329  chickpea\n",
            "2103    18.868056  15.658092  6.391174  88.510490  chickpea\n",
            "2104    18.369526  19.563810  7.152811  79.263577  chickpea\n",
            "...           ...        ...       ...        ...       ...\n",
            "2195    17.341502  18.756263  8.861480  67.954543  chickpea\n",
            "2196    17.437327  14.338474  7.861128  73.092670  chickpea\n",
            "2197    18.897802  19.761829  7.452671  69.095125  chickpea\n",
            "2198    18.591908  14.779596  7.168096  89.609825  chickpea\n",
            "2199    18.315615  15.361435  7.263119  81.787105  chickpea\n",
            "\n",
            "[100 rows x 5 columns]\n",
            "Empty DataFrame\n",
            "Columns: [temperature, humidity, ph, rainfall, label]\n",
            "Index: []\n",
            "Empty DataFrame\n",
            "Columns: [temperature, humidity, ph, rainfall, label]\n",
            "Index: []\n",
            "Empty DataFrame\n",
            "Columns: [temperature, humidity, ph, rainfall, label]\n",
            "Index: []\n",
            "Empty DataFrame\n",
            "Columns: [temperature, humidity, ph, rainfall, label]\n",
            "Index: []\n",
            "Empty DataFrame\n",
            "Columns: [temperature, humidity, ph, rainfall, label]\n",
            "Index: []\n",
            "Empty DataFrame\n",
            "Columns: [temperature, humidity, ph, rainfall, label]\n",
            "Index: []\n",
            "      temperature   humidity        ph    rainfall        label\n",
            "1500    17.136928  20.595417  5.685972  128.256862  kidneybeans\n",
            "1501    19.634743  18.907056  5.759237  106.359818  kidneybeans\n",
            "1502    22.913502  21.339531  5.873172  109.225556  kidneybeans\n",
            "1503    16.433403  24.240459  5.926677  140.371781  kidneybeans\n",
            "1504    22.139747  23.022511  5.955617   76.641283  kidneybeans\n",
            "...           ...        ...       ...         ...          ...\n",
            "1595    20.109938  23.223238  5.595032   73.363865  kidneybeans\n",
            "1596    23.605066  21.905396  5.525905  100.597873  kidneybeans\n",
            "1597    19.731369  24.894874  5.819404   84.063541  kidneybeans\n",
            "1598    20.934099  21.189301  5.562202  133.191442  kidneybeans\n",
            "1599    18.782263  20.247683  5.630665  104.257072  kidneybeans\n",
            "\n",
            "[100 rows x 5 columns]\n",
            "      temperature   humidity        ph    rainfall       label\n",
            "2000    36.512684  57.928872  6.031608  122.653969  pigeonpeas\n",
            "2001    36.891637  62.731782  5.269085  163.726655  pigeonpeas\n",
            "2002    29.235405  59.389676  5.985793  103.330180  pigeonpeas\n",
            "2003    27.335349  43.357960  6.091863  142.330368  pigeonpeas\n",
            "2004    21.064368  55.469859  5.624731  184.622671  pigeonpeas\n",
            "...           ...        ...       ...         ...         ...\n",
            "2095    29.892866  66.353751  6.931925  198.140300  pigeonpeas\n",
            "2096    29.377356  44.822946  6.842744  172.401680  pigeonpeas\n",
            "2097    29.650529  42.898332  6.876573  186.922605  pigeonpeas\n",
            "2098    19.542849  66.347773  6.151029  173.110698  pigeonpeas\n",
            "2099    20.046118  48.939056  4.567446  122.456420  pigeonpeas\n",
            "\n",
            "[100 rows x 5 columns]\n",
            "      temperature   humidity        ph   rainfall      label\n",
            "1600    27.910952  64.709306  3.692864  32.678919  mothbeans\n",
            "1601    27.322206  51.278688  4.371746  36.503791  mothbeans\n",
            "1602    28.660242  59.318912  8.399136  36.926297  mothbeans\n",
            "1603    29.029553  61.093875  8.840656  72.980166  mothbeans\n",
            "1604    27.780315  54.650300  8.153023  32.050253  mothbeans\n",
            "...           ...        ...       ...        ...        ...\n",
            "1695    29.337434  49.003231  8.914075  42.440543  mothbeans\n",
            "1696    27.965837  61.349001  8.639586  70.104721  mothbeans\n",
            "1697    24.868040  48.275320  8.621514  63.918765  mothbeans\n",
            "1698    25.876823  45.963419  5.838509  38.532547  mothbeans\n",
            "1699    31.019636  49.976752  3.532009  32.812965  mothbeans\n",
            "\n",
            "[100 rows x 5 columns]\n",
            "     temperature   humidity        ph   rainfall     label\n",
            "200    27.433294  87.805077  7.185301  54.733676  mungbean\n",
            "201    28.334043  80.772760  7.034214  38.797641  mungbean\n",
            "202    27.014704  84.342627  6.635969  55.296354  mungbean\n",
            "203    28.174327  81.045548  6.828187  36.357207  mungbean\n",
            "204    29.878881  87.327612  6.890780  44.752159  mungbean\n",
            "..           ...        ...       ...        ...       ...\n",
            "295    28.727527  89.127604  7.069748  58.529743  mungbean\n",
            "296    27.956397  83.527060  6.921994  43.257268  mungbean\n",
            "297    28.174587  83.696593  6.770955  37.246465  mungbean\n",
            "298    28.776535  86.691340  6.983130  56.124432  mungbean\n",
            "299    28.438097  83.489914  6.267684  52.554700  mungbean\n",
            "\n",
            "[100 rows x 5 columns]\n",
            "Empty DataFrame\n",
            "Columns: [temperature, humidity, ph, rainfall, label]\n",
            "Index: []\n",
            "Empty DataFrame\n",
            "Columns: [temperature, humidity, ph, rainfall, label]\n",
            "Index: []\n",
            "      temperature   humidity        ph   rainfall      label\n",
            "1800    29.484400  63.199153  7.454532  71.890907  blackgram\n",
            "1801    26.734340  68.139997  7.040056  67.150964  blackgram\n",
            "1802    26.272744  62.288149  7.418651  70.232076  blackgram\n",
            "1803    34.036792  67.211138  6.501869  73.235736  blackgram\n",
            "1804    28.036441  65.066017  6.814411  72.495077  blackgram\n",
            "...           ...        ...       ...        ...        ...\n",
            "1895    33.369844  65.677182  6.874142  64.895175  blackgram\n",
            "1896    31.434506  62.993035  7.760618  64.776515  blackgram\n",
            "1897    27.716783  63.291034  6.781842  68.565080  blackgram\n",
            "1898    32.639187  61.300905  7.326980  61.838761  blackgram\n",
            "1899    32.747739  67.779546  7.453975  63.377844  blackgram\n",
            "\n",
            "[100 rows x 5 columns]\n",
            "Empty DataFrame\n",
            "Columns: [temperature, humidity, ph, rainfall, label]\n",
            "Index: []\n",
            "Empty DataFrame\n",
            "Columns: [temperature, humidity, ph, rainfall, label]\n",
            "Index: []\n",
            "Empty DataFrame\n",
            "Columns: [temperature, humidity, ph, rainfall, label]\n",
            "Index: []\n",
            "Empty DataFrame\n",
            "Columns: [temperature, humidity, ph, rainfall, label]\n",
            "Index: []\n",
            "Empty DataFrame\n",
            "Columns: [temperature, humidity, ph, rainfall, label]\n",
            "Index: []\n",
            "     temperature   humidity        ph   rainfall   label\n",
            "600    28.051536  63.498022  7.604110  43.357954  lentil\n",
            "601    19.440843  63.277715  7.728832  46.831301  lentil\n",
            "602    29.848231  60.638726  7.491217  46.804526  lentil\n",
            "603    21.363838  69.923759  6.633865  46.635286  lentil\n",
            "604    26.286639  68.519667  7.324863  46.138330  lentil\n",
            "..           ...        ...       ...        ...     ...\n",
            "695    23.052764  60.424786  7.011121  52.602853  lentil\n",
            "696    21.658458  63.583371  6.280726  38.076594  lentil\n",
            "697    26.250703  67.627797  7.621495  40.810630  lentil\n",
            "698    20.971953  63.831799  7.630424  53.102079  lentil\n",
            "699    23.897364  66.321020  7.802212  40.745368  lentil\n",
            "\n",
            "[100 rows x 5 columns]\n",
            "Empty DataFrame\n",
            "Columns: [temperature, humidity, ph, rainfall, label]\n",
            "Index: []\n",
            "Empty DataFrame\n",
            "Columns: [temperature, humidity, ph, rainfall, label]\n",
            "Index: []\n",
            "Empty DataFrame\n",
            "Columns: [temperature, humidity, ph, rainfall, label]\n",
            "Index: []\n",
            "Empty DataFrame\n",
            "Columns: [temperature, humidity, ph, rainfall, label]\n",
            "Index: []\n",
            "Empty DataFrame\n",
            "Columns: [temperature, humidity, ph, rainfall, label]\n",
            "Index: []\n",
            "Empty DataFrame\n",
            "Columns: [temperature, humidity, ph, rainfall, label]\n",
            "Index: []\n",
            "Empty DataFrame\n",
            "Columns: [temperature, humidity, ph, rainfall, label]\n",
            "Index: []\n",
            "Empty DataFrame\n",
            "Columns: [temperature, humidity, ph, rainfall, label]\n",
            "Index: []\n",
            "Empty DataFrame\n",
            "Columns: [temperature, humidity, ph, rainfall, label]\n",
            "Index: []\n",
            "Empty DataFrame\n",
            "Columns: [temperature, humidity, ph, rainfall, label]\n",
            "Index: []\n",
            "Empty DataFrame\n",
            "Columns: [temperature, humidity, ph, rainfall, label]\n",
            "Index: []\n",
            "Empty DataFrame\n",
            "Columns: [temperature, humidity, ph, rainfall, label]\n",
            "Index: []\n",
            "Empty DataFrame\n",
            "Columns: [temperature, humidity, ph, rainfall, label]\n",
            "Index: []\n",
            "Empty DataFrame\n",
            "Columns: [temperature, humidity, ph, rainfall, label]\n",
            "Index: []\n",
            "Empty DataFrame\n",
            "Columns: [temperature, humidity, ph, rainfall, label]\n",
            "Index: []\n",
            "Empty DataFrame\n",
            "Columns: [temperature, humidity, ph, rainfall, label]\n",
            "Index: []\n",
            "Empty DataFrame\n",
            "Columns: [temperature, humidity, ph, rainfall, label]\n",
            "Index: []\n",
            "Empty DataFrame\n",
            "Columns: [temperature, humidity, ph, rainfall, label]\n",
            "Index: []\n",
            "Empty DataFrame\n",
            "Columns: [temperature, humidity, ph, rainfall, label]\n",
            "Index: []\n",
            "Empty DataFrame\n",
            "Columns: [temperature, humidity, ph, rainfall, label]\n",
            "Index: []\n",
            "Empty DataFrame\n",
            "Columns: [temperature, humidity, ph, rainfall, label]\n",
            "Index: []\n",
            "Empty DataFrame\n",
            "Columns: [temperature, humidity, ph, rainfall, label]\n",
            "Index: []\n",
            "Empty DataFrame\n",
            "Columns: [temperature, humidity, ph, rainfall, label]\n",
            "Index: []\n",
            "Empty DataFrame\n",
            "Columns: [temperature, humidity, ph, rainfall, label]\n",
            "Index: []\n",
            "Empty DataFrame\n",
            "Columns: [temperature, humidity, ph, rainfall, label]\n",
            "Index: []\n",
            "Empty DataFrame\n",
            "Columns: [temperature, humidity, ph, rainfall, label]\n",
            "Index: []\n",
            "Empty DataFrame\n",
            "Columns: [temperature, humidity, ph, rainfall, label]\n",
            "Index: []\n",
            "Empty DataFrame\n",
            "Columns: [temperature, humidity, ph, rainfall, label]\n",
            "Index: []\n",
            "Empty DataFrame\n",
            "Columns: [temperature, humidity, ph, rainfall, label]\n",
            "Index: []\n",
            "Empty DataFrame\n",
            "Columns: [temperature, humidity, ph, rainfall, label]\n",
            "Index: []\n",
            "Empty DataFrame\n",
            "Columns: [temperature, humidity, ph, rainfall, label]\n",
            "Index: []\n",
            "Empty DataFrame\n",
            "Columns: [temperature, humidity, ph, rainfall, label]\n",
            "Index: []\n",
            "Empty DataFrame\n",
            "Columns: [temperature, humidity, ph, rainfall, label]\n",
            "Index: []\n",
            "Empty DataFrame\n",
            "Columns: [temperature, humidity, ph, rainfall, label]\n",
            "Index: []\n",
            "Empty DataFrame\n",
            "Columns: [temperature, humidity, ph, rainfall, label]\n",
            "Index: []\n",
            "      temperature   humidity        ph    rainfall        label\n",
            "2900    24.559816  91.635362  5.922936  111.968462  pomegranate\n",
            "2901    19.656901  89.937010  5.937650  108.045893  pomegranate\n",
            "2902    18.783596  87.402477  6.804781  102.518476  pomegranate\n",
            "2903    24.146963  94.511066  6.424671  110.231663  pomegranate\n",
            "2904    22.445813  89.901470  6.738016  109.390600  pomegranate\n",
            "...           ...        ...       ...         ...          ...\n",
            "2995    20.002190  85.836182  7.116539  112.337046  pomegranate\n",
            "2996    19.851393  89.807323  6.430163  102.818636  pomegranate\n",
            "2997    21.254336  92.650589  7.159521  106.278467  pomegranate\n",
            "2998    23.653741  93.326575  6.431266  109.807618  pomegranate\n",
            "2999    23.884048  86.206138  6.082572  108.312179  pomegranate\n",
            "\n",
            "[100 rows x 5 columns]\n",
            "      temperature   humidity        ph    rainfall   label\n",
            "2200    29.367924  76.249001  6.149934   92.828409  banana\n",
            "2201    27.333690  83.676752  5.849076  101.049479  banana\n",
            "2202    27.400536  82.962213  6.276800  104.937800  banana\n",
            "2203    29.315908  80.115857  5.926825   90.109781  banana\n",
            "2204    26.054330  79.396545  5.519088  113.229737  banana\n",
            "...           ...        ...       ...         ...     ...\n",
            "2295    27.359116  84.546250  6.387431   90.812505  banana\n",
            "2296    28.010680  76.528081  5.891414  103.704078  banana\n",
            "2297    28.672089  82.207936  5.725419   94.379875  banana\n",
            "2298    27.345851  78.487383  6.281070   92.155243  banana\n",
            "2299    29.507046  78.205856  5.507642   98.125658  banana\n",
            "\n",
            "[100 rows x 5 columns]\n",
            "      temperature   humidity        ph    rainfall  label\n",
            "2500    29.737700  47.548852  5.954627   90.095869  mango\n",
            "2501    33.556956  53.729798  4.757115   98.675276  mango\n",
            "2502    27.003155  47.675254  5.699587   95.851183  mango\n",
            "2503    33.561502  45.535566  5.977414   95.705259  mango\n",
            "2504    35.898556  54.259642  6.430139   92.197217  mango\n",
            "...           ...        ...       ...         ...    ...\n",
            "2595    31.484517  48.779263  4.525722   93.172220  mango\n",
            "2596    27.698193  51.415932  5.403908  100.772070  mango\n",
            "2597    30.412358  52.481006  6.621624   93.923759  mango\n",
            "2598    32.177520  54.013527  6.207496   91.887661  mango\n",
            "2599    32.611261  47.749165  5.418475   91.101908  mango\n",
            "\n",
            "[100 rows x 5 columns]\n",
            "      temperature   humidity        ph   rainfall   label\n",
            "2300    29.996772  81.541566  6.112306  67.125345  grapes\n",
            "2301    30.728040  82.426141  6.092242  68.381355  grapes\n",
            "2302    32.445778  83.885049  5.896343  68.739325  grapes\n",
            "2303    37.465668  80.659687  6.155261  66.838723  grapes\n",
            "2304    22.032962  83.743728  5.732454  65.344408  grapes\n",
            "...           ...        ...       ...        ...     ...\n",
            "2395     9.851243  80.226317  5.965379  68.428024  grapes\n",
            "2396    24.972561  82.728287  6.476758  66.700163  grapes\n",
            "2397    27.237083  82.945733  6.224543  70.425089  grapes\n",
            "2398    18.706791  83.479529  6.209928  66.596449  grapes\n",
            "2399     9.949929  82.551390  5.841138  66.008176  grapes\n",
            "\n",
            "[100 rows x 5 columns]\n",
            "Empty DataFrame\n",
            "Columns: [temperature, humidity, ph, rainfall, label]\n",
            "Index: []\n",
            "Empty DataFrame\n",
            "Columns: [temperature, humidity, ph, rainfall, label]\n",
            "Index: []\n",
            "      temperature   humidity        ph   rainfall       label\n",
            "3000    26.473302  80.922544  6.283818  53.657426  watermelon\n",
            "3001    25.187800  83.446217  6.818261  46.874209  watermelon\n",
            "3002    25.299547  81.775276  6.376201  57.041471  watermelon\n",
            "3003    24.746313  88.308663  6.581588  57.958261  watermelon\n",
            "3004    26.587407  81.325632  6.932740  41.875400  watermelon\n",
            "...           ...        ...       ...        ...         ...\n",
            "3095    25.287846  89.636679  6.765095  58.286977  watermelon\n",
            "3096    26.638386  84.695469  6.189214  48.324286  watermelon\n",
            "3097    25.331045  84.305338  6.904242  41.532187  watermelon\n",
            "3098    26.897502  83.892415  6.463271  43.971937  watermelon\n",
            "3099    26.986037  89.413849  6.260839  58.548767  watermelon\n",
            "\n",
            "[100 rows x 5 columns]\n",
            "      temperature   humidity        ph   rainfall      label\n",
            "2600    27.578269  94.118782  6.776533  28.082532  muskmelon\n",
            "2601    27.820548  93.035552  6.528404  26.324055  muskmelon\n",
            "2602    29.099104  94.222378  6.750146  22.524973  muskmelon\n",
            "2603    28.049436  90.831307  6.562833  20.762230  muskmelon\n",
            "2604    29.916906  94.556956  6.117530  28.160572  muskmelon\n",
            "...           ...        ...       ...        ...        ...\n",
            "2695    29.527531  94.574594  6.700338  21.135457  muskmelon\n",
            "2696    28.504164  93.468065  6.565313  24.200072  muskmelon\n",
            "2697    28.895786  94.789930  6.286515  23.036250  muskmelon\n",
            "2698    27.049275  91.382173  6.448062  23.657475  muskmelon\n",
            "2699    28.960179  91.695322  6.585873  24.745820  muskmelon\n",
            "\n",
            "[100 rows x 5 columns]\n",
            "Empty DataFrame\n",
            "Columns: [temperature, humidity, ph, rainfall, label]\n",
            "Index: []\n",
            "      temperature   humidity        ph    rainfall  label\n",
            "2400    22.750888  90.694892  5.521467  110.431786  apple\n",
            "2401    23.849401  94.348150  6.133221  114.051250  apple\n",
            "2402    22.608010  94.589006  6.226290  116.039659  apple\n",
            "2403    21.186674  91.134357  6.321152  122.233323  apple\n",
            "2404    23.410447  91.699133  5.587906  116.077793  apple\n",
            "...           ...        ...       ...         ...    ...\n",
            "2495    23.805938  92.488795  5.889481  119.633555  apple\n",
            "2496    22.319441  90.851744  5.732758  100.117344  apple\n",
            "2497    22.144641  93.825674  6.400321  120.631078  apple\n",
            "2498    23.651676  94.505288  6.496934  115.361127  apple\n",
            "2499    22.169395  90.271856  6.229499  124.468311  apple\n",
            "\n",
            "[100 rows x 5 columns]\n",
            "Empty DataFrame\n",
            "Columns: [temperature, humidity, ph, rainfall, label]\n",
            "Index: []\n",
            "Empty DataFrame\n",
            "Columns: [temperature, humidity, ph, rainfall, label]\n",
            "Index: []\n",
            "Empty DataFrame\n",
            "Columns: [temperature, humidity, ph, rainfall, label]\n",
            "Index: []\n",
            "Empty DataFrame\n",
            "Columns: [temperature, humidity, ph, rainfall, label]\n",
            "Index: []\n",
            "      temperature   humidity        ph    rainfall   label\n",
            "2700    15.781442  92.510777  6.354007  119.035002  orange\n",
            "2701    26.030973  91.508193  7.511755  101.284774  orange\n",
            "2702    13.360506  91.356082  7.335158  111.226688  orange\n",
            "2703    18.879577  92.043045  7.813917  114.665951  orange\n",
            "2704    29.477417  91.578029  7.129137  111.172750  orange\n",
            "...           ...        ...       ...         ...     ...\n",
            "2795    32.717485  90.546083  7.656978  113.328978  orange\n",
            "2796    25.162966  92.547360  7.105905  114.311720  orange\n",
            "2797    27.681673  94.473169  7.199106  113.999515  orange\n",
            "2798    21.350934  90.949297  7.871063  107.086209  orange\n",
            "2799    11.698946  93.256389  7.566166  103.200599  orange\n",
            "\n",
            "[100 rows x 5 columns]\n",
            "      temperature   humidity        ph    rainfall   label\n",
            "2800    35.214628  91.497251  6.793245  243.074507  papaya\n",
            "2801    42.394134  90.790281  6.576261   88.466075  papaya\n",
            "2802    38.419163  91.142204  6.751453  119.265388  papaya\n",
            "2803    35.332949  92.115086  6.560743  235.613359  papaya\n",
            "2804    42.923253  90.076005  6.938313  196.240824  papaya\n",
            "...           ...        ...       ...         ...     ...\n",
            "2895    40.102077  94.351102  6.979102  149.119999  papaya\n",
            "2896    38.589545  91.580765  6.825665  102.270823  papaya\n",
            "2897    41.313301  91.150880  6.617067  239.742755  papaya\n",
            "2898    37.035519  91.794302  6.551893  188.518142  papaya\n",
            "2899    23.012402  91.073555  6.598860  208.335798  papaya\n",
            "\n",
            "[100 rows x 5 columns]\n",
            "Empty DataFrame\n",
            "Columns: [temperature, humidity, ph, rainfall, label]\n",
            "Index: []\n",
            "Empty DataFrame\n",
            "Columns: [temperature, humidity, ph, rainfall, label]\n",
            "Index: []\n",
            "Empty DataFrame\n",
            "Columns: [temperature, humidity, ph, rainfall, label]\n",
            "Index: []\n",
            "Empty DataFrame\n",
            "Columns: [temperature, humidity, ph, rainfall, label]\n",
            "Index: []\n",
            "Empty DataFrame\n",
            "Columns: [temperature, humidity, ph, rainfall, label]\n",
            "Index: []\n",
            "Empty DataFrame\n",
            "Columns: [temperature, humidity, ph, rainfall, label]\n",
            "Index: []\n",
            "Empty DataFrame\n",
            "Columns: [temperature, humidity, ph, rainfall, label]\n",
            "Index: []\n",
            "Empty DataFrame\n",
            "Columns: [temperature, humidity, ph, rainfall, label]\n",
            "Index: []\n",
            "Empty DataFrame\n",
            "Columns: [temperature, humidity, ph, rainfall, label]\n",
            "Index: []\n",
            "Empty DataFrame\n",
            "Columns: [temperature, humidity, ph, rainfall, label]\n",
            "Index: []\n",
            "Empty DataFrame\n",
            "Columns: [temperature, humidity, ph, rainfall, label]\n",
            "Index: []\n",
            "Empty DataFrame\n",
            "Columns: [temperature, humidity, ph, rainfall, label]\n",
            "Index: []\n",
            "      temperature   humidity        ph    rainfall    label\n",
            "1700    26.762749  92.860569  6.420019  224.590366  coconut\n",
            "1701    25.612944  94.313884  5.740055  224.320676  coconut\n",
            "1702    28.130115  95.648076  5.686973  151.076190  coconut\n",
            "1703    25.028872  91.537209  6.293662  179.824894  coconut\n",
            "1704    27.797977  99.645730  6.381975  181.694228  coconut\n",
            "...           ...        ...       ...         ...      ...\n",
            "1795    28.435729  95.884041  5.665785  203.928371  coconut\n",
            "1796    28.940997  93.001090  5.764615  191.772309  coconut\n",
            "1797    26.454887  93.450426  5.901496  149.222026  coconut\n",
            "1798    25.794905  93.841506  5.779033  152.423871  coconut\n",
            "1799    26.931419  98.803136  5.671549  166.571288  coconut\n",
            "\n",
            "[100 rows x 5 columns]\n",
            "Empty DataFrame\n",
            "Columns: [temperature, humidity, ph, rainfall, label]\n",
            "Index: []\n",
            "Empty DataFrame\n",
            "Columns: [temperature, humidity, ph, rainfall, label]\n",
            "Index: []\n",
            "Empty DataFrame\n",
            "Columns: [temperature, humidity, ph, rainfall, label]\n",
            "Index: []\n",
            "Empty DataFrame\n",
            "Columns: [temperature, humidity, ph, rainfall, label]\n",
            "Index: []\n",
            "     temperature   humidity        ph   rainfall   label\n",
            "900    24.402289  79.197320  7.231325  90.802236  cotton\n",
            "901    23.095956  84.862757  6.925412  71.295811  cotton\n",
            "902    23.965635  76.976967  7.633437  90.756167  cotton\n",
            "903    24.887381  75.621372  6.827355  89.760504  cotton\n",
            "904    25.362438  83.632761  6.176716  88.436189  cotton\n",
            "..           ...        ...       ...        ...     ...\n",
            "995    22.107190  78.583201  6.364730  74.941366  cotton\n",
            "996    23.038140  76.110215  6.913679  91.496975  cotton\n",
            "997    24.547953  75.397527  7.766260  63.880799  cotton\n",
            "998    23.738680  75.775038  7.556064  76.636692  cotton\n",
            "999    22.318719  83.861300  7.288377  65.357470  cotton\n",
            "\n",
            "[100 rows x 5 columns]\n",
            "     temperature   humidity        ph    rainfall label\n",
            "700    25.524690  72.248508  6.002525  151.886997  jute\n",
            "701    26.591050  82.941641  6.033485  161.247000  jute\n",
            "702    25.297818  86.887054  7.121934  196.624951  jute\n",
            "703    25.721009  88.165136  6.207460  175.608670  jute\n",
            "704    23.584193  72.004608  6.090060  190.424216  jute\n",
            "..           ...        ...       ...         ...   ...\n",
            "795    23.874845  86.792613  6.718725  177.514731  jute\n",
            "796    23.928879  88.071123  6.880205  154.660874  jute\n",
            "797    24.814412  81.686889  6.861069  190.788639  jute\n",
            "798    24.447439  82.286484  6.769346  190.968489  jute\n",
            "799    26.574217  73.819949  7.261581  159.322307  jute\n",
            "\n",
            "[100 rows x 5 columns]\n",
            "     temperature   humidity        ph    rainfall   label\n",
            "800    26.333780  57.364700  7.261314  191.654941  coffee\n",
            "801    26.452885  55.322227  7.235070  144.686134  coffee\n",
            "802    25.708227  52.886671  7.189156  136.732509  coffee\n",
            "803    24.128325  56.181077  6.431900  147.275782  coffee\n",
            "804    23.443723  60.395233  6.423211  122.210325  coffee\n",
            "..           ...        ...       ...         ...     ...\n",
            "895    26.774637  66.413269  6.780064  177.774507  coffee\n",
            "896    27.417112  56.636362  6.086922  127.924610  coffee\n",
            "897    24.131797  67.225123  6.362608  173.322839  coffee\n",
            "898    26.272418  52.127394  6.758793  127.175293  coffee\n",
            "899    23.603016  60.396475  6.779833  140.937041  coffee\n",
            "\n",
            "[100 rows x 5 columns]\n",
            "Empty DataFrame\n",
            "Columns: [temperature, humidity, ph, rainfall, label]\n",
            "Index: []\n"
          ]
        }
      ]
    },
    {
      "cell_type": "code",
      "metadata": {
        "id": "pc3askzWdRC5",
        "colab": {
          "base_uri": "https://localhost:8080/"
        },
        "outputId": "69c763f3-ea86-4881-dd86-369c276aef13"
      },
      "source": [
        "crop['label']"
      ],
      "execution_count": 96,
      "outputs": [
        {
          "output_type": "execute_result",
          "data": {
            "text/plain": [
              "0             rice\n",
              "1             rice\n",
              "2             rice\n",
              "3             rice\n",
              "4             rice\n",
              "           ...    \n",
              "3095    watermelon\n",
              "3096    watermelon\n",
              "3097    watermelon\n",
              "3098    watermelon\n",
              "3099    watermelon\n",
              "Name: label, Length: 3100, dtype: object"
            ]
          },
          "metadata": {},
          "execution_count": 96
        }
      ]
    },
    {
      "cell_type": "code",
      "metadata": {
        "id": "z87tRB-sdRC7"
      },
      "source": [
        "extract_labels = []\n",
        "for i in crop_names_from_fert:\n",
        "    if i in crop_names:\n",
        "        extract_labels.append(i)"
      ],
      "execution_count": 97,
      "outputs": []
    },
    {
      "cell_type": "code",
      "metadata": {
        "id": "W8sKeyp3dRDB"
      },
      "source": [
        "# using extract labesl on crop to get all the data related to those labels\n",
        "new_crop = pd.DataFrame(columns = crop.columns)\n",
        "new_fert = pd.DataFrame(columns = fert.columns)"
      ],
      "execution_count": 98,
      "outputs": []
    },
    {
      "cell_type": "code",
      "metadata": {
        "id": "qr-iz-_pdRDC"
      },
      "source": [
        "for label in extract_labels:\n",
        "    new_crop = new_crop.append(crop[crop['label'] == label])"
      ],
      "execution_count": 99,
      "outputs": []
    },
    {
      "cell_type": "code",
      "metadata": {
        "id": "E-i5YkLVdRDD"
      },
      "source": [
        "for label in extract_labels:\n",
        "    new_fert = new_fert.append(fert[fert['Crop'] == label].iloc[0])"
      ],
      "execution_count": 100,
      "outputs": []
    },
    {
      "cell_type": "code",
      "metadata": {
        "id": "GArgiCAWdRDE",
        "colab": {
          "base_uri": "https://localhost:8080/",
          "height": 423
        },
        "outputId": "c446ada0-0819-478e-f1cc-f92697d27fc8"
      },
      "source": [
        "new_crop"
      ],
      "execution_count": 101,
      "outputs": [
        {
          "output_type": "execute_result",
          "data": {
            "text/html": [
              "<div>\n",
              "<style scoped>\n",
              "    .dataframe tbody tr th:only-of-type {\n",
              "        vertical-align: middle;\n",
              "    }\n",
              "\n",
              "    .dataframe tbody tr th {\n",
              "        vertical-align: top;\n",
              "    }\n",
              "\n",
              "    .dataframe thead th {\n",
              "        text-align: right;\n",
              "    }\n",
              "</style>\n",
              "<table border=\"1\" class=\"dataframe\">\n",
              "  <thead>\n",
              "    <tr style=\"text-align: right;\">\n",
              "      <th></th>\n",
              "      <th>temperature</th>\n",
              "      <th>humidity</th>\n",
              "      <th>ph</th>\n",
              "      <th>rainfall</th>\n",
              "      <th>label</th>\n",
              "    </tr>\n",
              "  </thead>\n",
              "  <tbody>\n",
              "    <tr>\n",
              "      <th>0</th>\n",
              "      <td>20.879744</td>\n",
              "      <td>82.002744</td>\n",
              "      <td>6.502985</td>\n",
              "      <td>202.935536</td>\n",
              "      <td>rice</td>\n",
              "    </tr>\n",
              "    <tr>\n",
              "      <th>1</th>\n",
              "      <td>21.770462</td>\n",
              "      <td>80.319644</td>\n",
              "      <td>7.038096</td>\n",
              "      <td>226.655537</td>\n",
              "      <td>rice</td>\n",
              "    </tr>\n",
              "    <tr>\n",
              "      <th>2</th>\n",
              "      <td>23.004459</td>\n",
              "      <td>82.320763</td>\n",
              "      <td>7.840207</td>\n",
              "      <td>263.964248</td>\n",
              "      <td>rice</td>\n",
              "    </tr>\n",
              "    <tr>\n",
              "      <th>3</th>\n",
              "      <td>26.491096</td>\n",
              "      <td>80.158363</td>\n",
              "      <td>6.980401</td>\n",
              "      <td>242.864034</td>\n",
              "      <td>rice</td>\n",
              "    </tr>\n",
              "    <tr>\n",
              "      <th>4</th>\n",
              "      <td>20.130175</td>\n",
              "      <td>81.604873</td>\n",
              "      <td>7.628473</td>\n",
              "      <td>262.717340</td>\n",
              "      <td>rice</td>\n",
              "    </tr>\n",
              "    <tr>\n",
              "      <th>...</th>\n",
              "      <td>...</td>\n",
              "      <td>...</td>\n",
              "      <td>...</td>\n",
              "      <td>...</td>\n",
              "      <td>...</td>\n",
              "    </tr>\n",
              "    <tr>\n",
              "      <th>895</th>\n",
              "      <td>26.774637</td>\n",
              "      <td>66.413269</td>\n",
              "      <td>6.780064</td>\n",
              "      <td>177.774507</td>\n",
              "      <td>coffee</td>\n",
              "    </tr>\n",
              "    <tr>\n",
              "      <th>896</th>\n",
              "      <td>27.417112</td>\n",
              "      <td>56.636362</td>\n",
              "      <td>6.086922</td>\n",
              "      <td>127.924610</td>\n",
              "      <td>coffee</td>\n",
              "    </tr>\n",
              "    <tr>\n",
              "      <th>897</th>\n",
              "      <td>24.131797</td>\n",
              "      <td>67.225123</td>\n",
              "      <td>6.362608</td>\n",
              "      <td>173.322839</td>\n",
              "      <td>coffee</td>\n",
              "    </tr>\n",
              "    <tr>\n",
              "      <th>898</th>\n",
              "      <td>26.272418</td>\n",
              "      <td>52.127394</td>\n",
              "      <td>6.758793</td>\n",
              "      <td>127.175293</td>\n",
              "      <td>coffee</td>\n",
              "    </tr>\n",
              "    <tr>\n",
              "      <th>899</th>\n",
              "      <td>23.603016</td>\n",
              "      <td>60.396475</td>\n",
              "      <td>6.779833</td>\n",
              "      <td>140.937041</td>\n",
              "      <td>coffee</td>\n",
              "    </tr>\n",
              "  </tbody>\n",
              "</table>\n",
              "<p>2200 rows × 5 columns</p>\n",
              "</div>"
            ],
            "text/plain": [
              "     temperature   humidity        ph    rainfall   label\n",
              "0      20.879744  82.002744  6.502985  202.935536    rice\n",
              "1      21.770462  80.319644  7.038096  226.655537    rice\n",
              "2      23.004459  82.320763  7.840207  263.964248    rice\n",
              "3      26.491096  80.158363  6.980401  242.864034    rice\n",
              "4      20.130175  81.604873  7.628473  262.717340    rice\n",
              "..           ...        ...       ...         ...     ...\n",
              "895    26.774637  66.413269  6.780064  177.774507  coffee\n",
              "896    27.417112  56.636362  6.086922  127.924610  coffee\n",
              "897    24.131797  67.225123  6.362608  173.322839  coffee\n",
              "898    26.272418  52.127394  6.758793  127.175293  coffee\n",
              "899    23.603016  60.396475  6.779833  140.937041  coffee\n",
              "\n",
              "[2200 rows x 5 columns]"
            ]
          },
          "metadata": {},
          "execution_count": 101
        }
      ]
    },
    {
      "cell_type": "code",
      "metadata": {
        "id": "wpuK3pjWdRDF",
        "colab": {
          "base_uri": "https://localhost:8080/",
          "height": 739
        },
        "outputId": "eda22bc6-e33d-4285-e5ef-a32096906983"
      },
      "source": [
        "new_fert"
      ],
      "execution_count": 102,
      "outputs": [
        {
          "output_type": "execute_result",
          "data": {
            "text/html": [
              "<div>\n",
              "<style scoped>\n",
              "    .dataframe tbody tr th:only-of-type {\n",
              "        vertical-align: middle;\n",
              "    }\n",
              "\n",
              "    .dataframe tbody tr th {\n",
              "        vertical-align: top;\n",
              "    }\n",
              "\n",
              "    .dataframe thead th {\n",
              "        text-align: right;\n",
              "    }\n",
              "</style>\n",
              "<table border=\"1\" class=\"dataframe\">\n",
              "  <thead>\n",
              "    <tr style=\"text-align: right;\">\n",
              "      <th></th>\n",
              "      <th>Crop</th>\n",
              "      <th>N</th>\n",
              "      <th>P</th>\n",
              "      <th>K</th>\n",
              "      <th>pH</th>\n",
              "    </tr>\n",
              "  </thead>\n",
              "  <tbody>\n",
              "    <tr>\n",
              "      <th>0</th>\n",
              "      <td>rice</td>\n",
              "      <td>80</td>\n",
              "      <td>40</td>\n",
              "      <td>40</td>\n",
              "      <td>5.5</td>\n",
              "    </tr>\n",
              "    <tr>\n",
              "      <th>3</th>\n",
              "      <td>maize</td>\n",
              "      <td>80</td>\n",
              "      <td>40</td>\n",
              "      <td>20</td>\n",
              "      <td>5.5</td>\n",
              "    </tr>\n",
              "    <tr>\n",
              "      <th>5</th>\n",
              "      <td>chickpea</td>\n",
              "      <td>40</td>\n",
              "      <td>60</td>\n",
              "      <td>80</td>\n",
              "      <td>5.5</td>\n",
              "    </tr>\n",
              "    <tr>\n",
              "      <th>12</th>\n",
              "      <td>kidneybeans</td>\n",
              "      <td>20</td>\n",
              "      <td>60</td>\n",
              "      <td>20</td>\n",
              "      <td>5.5</td>\n",
              "    </tr>\n",
              "    <tr>\n",
              "      <th>13</th>\n",
              "      <td>pigeonpeas</td>\n",
              "      <td>20</td>\n",
              "      <td>60</td>\n",
              "      <td>20</td>\n",
              "      <td>5.5</td>\n",
              "    </tr>\n",
              "    <tr>\n",
              "      <th>14</th>\n",
              "      <td>mothbeans</td>\n",
              "      <td>20</td>\n",
              "      <td>40</td>\n",
              "      <td>20</td>\n",
              "      <td>5.5</td>\n",
              "    </tr>\n",
              "    <tr>\n",
              "      <th>15</th>\n",
              "      <td>mungbean</td>\n",
              "      <td>20</td>\n",
              "      <td>40</td>\n",
              "      <td>20</td>\n",
              "      <td>5.5</td>\n",
              "    </tr>\n",
              "    <tr>\n",
              "      <th>18</th>\n",
              "      <td>blackgram</td>\n",
              "      <td>40</td>\n",
              "      <td>60</td>\n",
              "      <td>20</td>\n",
              "      <td>5.0</td>\n",
              "    </tr>\n",
              "    <tr>\n",
              "      <th>24</th>\n",
              "      <td>lentil</td>\n",
              "      <td>20</td>\n",
              "      <td>60</td>\n",
              "      <td>20</td>\n",
              "      <td>5.5</td>\n",
              "    </tr>\n",
              "    <tr>\n",
              "      <th>60</th>\n",
              "      <td>pomegranate</td>\n",
              "      <td>20</td>\n",
              "      <td>10</td>\n",
              "      <td>40</td>\n",
              "      <td>5.5</td>\n",
              "    </tr>\n",
              "    <tr>\n",
              "      <th>61</th>\n",
              "      <td>banana</td>\n",
              "      <td>100</td>\n",
              "      <td>75</td>\n",
              "      <td>50</td>\n",
              "      <td>6.5</td>\n",
              "    </tr>\n",
              "    <tr>\n",
              "      <th>62</th>\n",
              "      <td>mango</td>\n",
              "      <td>20</td>\n",
              "      <td>20</td>\n",
              "      <td>30</td>\n",
              "      <td>5.0</td>\n",
              "    </tr>\n",
              "    <tr>\n",
              "      <th>63</th>\n",
              "      <td>grapes</td>\n",
              "      <td>20</td>\n",
              "      <td>125</td>\n",
              "      <td>200</td>\n",
              "      <td>4.0</td>\n",
              "    </tr>\n",
              "    <tr>\n",
              "      <th>66</th>\n",
              "      <td>watermelon</td>\n",
              "      <td>100</td>\n",
              "      <td>10</td>\n",
              "      <td>50</td>\n",
              "      <td>5.5</td>\n",
              "    </tr>\n",
              "    <tr>\n",
              "      <th>67</th>\n",
              "      <td>muskmelon</td>\n",
              "      <td>100</td>\n",
              "      <td>10</td>\n",
              "      <td>50</td>\n",
              "      <td>5.5</td>\n",
              "    </tr>\n",
              "    <tr>\n",
              "      <th>69</th>\n",
              "      <td>apple</td>\n",
              "      <td>20</td>\n",
              "      <td>125</td>\n",
              "      <td>200</td>\n",
              "      <td>6.5</td>\n",
              "    </tr>\n",
              "    <tr>\n",
              "      <th>74</th>\n",
              "      <td>orange</td>\n",
              "      <td>20</td>\n",
              "      <td>10</td>\n",
              "      <td>10</td>\n",
              "      <td>4.0</td>\n",
              "    </tr>\n",
              "    <tr>\n",
              "      <th>75</th>\n",
              "      <td>papaya</td>\n",
              "      <td>50</td>\n",
              "      <td>50</td>\n",
              "      <td>50</td>\n",
              "      <td>6.0</td>\n",
              "    </tr>\n",
              "    <tr>\n",
              "      <th>88</th>\n",
              "      <td>coconut</td>\n",
              "      <td>20</td>\n",
              "      <td>10</td>\n",
              "      <td>30</td>\n",
              "      <td>5.0</td>\n",
              "    </tr>\n",
              "    <tr>\n",
              "      <th>93</th>\n",
              "      <td>cotton</td>\n",
              "      <td>120</td>\n",
              "      <td>40</td>\n",
              "      <td>20</td>\n",
              "      <td>5.5</td>\n",
              "    </tr>\n",
              "    <tr>\n",
              "      <th>94</th>\n",
              "      <td>jute</td>\n",
              "      <td>80</td>\n",
              "      <td>40</td>\n",
              "      <td>40</td>\n",
              "      <td>5.5</td>\n",
              "    </tr>\n",
              "    <tr>\n",
              "      <th>95</th>\n",
              "      <td>coffee</td>\n",
              "      <td>100</td>\n",
              "      <td>20</td>\n",
              "      <td>30</td>\n",
              "      <td>5.5</td>\n",
              "    </tr>\n",
              "  </tbody>\n",
              "</table>\n",
              "</div>"
            ],
            "text/plain": [
              "           Crop    N    P    K   pH\n",
              "0          rice   80   40   40  5.5\n",
              "3         maize   80   40   20  5.5\n",
              "5      chickpea   40   60   80  5.5\n",
              "12  kidneybeans   20   60   20  5.5\n",
              "13   pigeonpeas   20   60   20  5.5\n",
              "14    mothbeans   20   40   20  5.5\n",
              "15     mungbean   20   40   20  5.5\n",
              "18    blackgram   40   60   20  5.0\n",
              "24       lentil   20   60   20  5.5\n",
              "60  pomegranate   20   10   40  5.5\n",
              "61       banana  100   75   50  6.5\n",
              "62        mango   20   20   30  5.0\n",
              "63       grapes   20  125  200  4.0\n",
              "66   watermelon  100   10   50  5.5\n",
              "67    muskmelon  100   10   50  5.5\n",
              "69        apple   20  125  200  6.5\n",
              "74       orange   20   10   10  4.0\n",
              "75       papaya   50   50   50  6.0\n",
              "88      coconut   20   10   30  5.0\n",
              "93       cotton  120   40   20  5.5\n",
              "94         jute   80   40   40  5.5\n",
              "95       coffee  100   20   30  5.5"
            ]
          },
          "metadata": {},
          "execution_count": 102
        }
      ]
    },
    {
      "cell_type": "code",
      "metadata": {
        "id": "J26zjS9LdRDG"
      },
      "source": [
        "new_crop.to_csv('/content/drive/MyDrive/CSE305-ML/project/MergeFileCrop.csv')\n",
        "new_fert.to_csv('/content/drive/MyDrive/CSE305-ML/project/Data-processed/fertilizerdata.csv')"
      ],
      "execution_count": 103,
      "outputs": []
    },
    {
      "cell_type": "code",
      "metadata": {
        "id": "lknFcOv-dYPr"
      },
      "source": [
        "fertilizer_data_path = '/content/drive/MyDrive/CSE305-ML/project/Data-processed/fertilizerdata.csv'\n",
        "merge_fert = pd.read_csv(fertilizer_data_path)"
      ],
      "execution_count": 104,
      "outputs": []
    },
    {
      "cell_type": "code",
      "metadata": {
        "id": "oVhxSSg5dYP0"
      },
      "source": [
        "del merge_fert['Unnamed: 0']"
      ],
      "execution_count": 105,
      "outputs": []
    },
    {
      "cell_type": "code",
      "metadata": {
        "id": "5xCczjTjdYQG"
      },
      "source": [
        "merge_crop = pd.read_csv('/content/drive/MyDrive/CSE305-ML/project/MergeFileCrop.csv')\n",
        "reco_fert = merge_fert"
      ],
      "execution_count": 106,
      "outputs": []
    },
    {
      "cell_type": "code",
      "metadata": {
        "id": "xhaZ4YMxdYQI"
      },
      "source": [
        "#Add +/-3 for every NPK value\n",
        "import random\n",
        "temp = pd.DataFrame(columns = ['N','P','K'])\n",
        "for i in range(0,merge_crop.shape[0]):\n",
        "    crop = merge_crop.label.iloc[i]\n",
        "    #print(crop)\n",
        "    N = reco_fert[reco_fert['Crop'] == crop][\"N\"].iloc[0] + random.randint(-20,20)\n",
        "    P = reco_fert[reco_fert['Crop'] == crop][\"P\"].iloc[0] + random.randint(-5,20)\n",
        "    K = reco_fert[reco_fert['Crop'] == crop][\"K\"].iloc[0] + random.randint(-5,5)\n",
        "    d = {\"N\":N,\"P\":P,\"K\":K}\n",
        "    #print(d)\n",
        "    temp = temp.append(d,ignore_index = True)"
      ],
      "execution_count": 107,
      "outputs": []
    },
    {
      "cell_type": "code",
      "metadata": {
        "id": "QCYtPZKndYQK",
        "colab": {
          "base_uri": "https://localhost:8080/",
          "height": 423
        },
        "outputId": "028fe3c0-1b85-4863-bb60-b804b339aff3"
      },
      "source": [
        "temp"
      ],
      "execution_count": 108,
      "outputs": [
        {
          "output_type": "execute_result",
          "data": {
            "text/html": [
              "<div>\n",
              "<style scoped>\n",
              "    .dataframe tbody tr th:only-of-type {\n",
              "        vertical-align: middle;\n",
              "    }\n",
              "\n",
              "    .dataframe tbody tr th {\n",
              "        vertical-align: top;\n",
              "    }\n",
              "\n",
              "    .dataframe thead th {\n",
              "        text-align: right;\n",
              "    }\n",
              "</style>\n",
              "<table border=\"1\" class=\"dataframe\">\n",
              "  <thead>\n",
              "    <tr style=\"text-align: right;\">\n",
              "      <th></th>\n",
              "      <th>N</th>\n",
              "      <th>P</th>\n",
              "      <th>K</th>\n",
              "    </tr>\n",
              "  </thead>\n",
              "  <tbody>\n",
              "    <tr>\n",
              "      <th>0</th>\n",
              "      <td>92</td>\n",
              "      <td>45</td>\n",
              "      <td>40</td>\n",
              "    </tr>\n",
              "    <tr>\n",
              "      <th>1</th>\n",
              "      <td>61</td>\n",
              "      <td>47</td>\n",
              "      <td>39</td>\n",
              "    </tr>\n",
              "    <tr>\n",
              "      <th>2</th>\n",
              "      <td>76</td>\n",
              "      <td>46</td>\n",
              "      <td>38</td>\n",
              "    </tr>\n",
              "    <tr>\n",
              "      <th>3</th>\n",
              "      <td>86</td>\n",
              "      <td>56</td>\n",
              "      <td>36</td>\n",
              "    </tr>\n",
              "    <tr>\n",
              "      <th>4</th>\n",
              "      <td>88</td>\n",
              "      <td>55</td>\n",
              "      <td>41</td>\n",
              "    </tr>\n",
              "    <tr>\n",
              "      <th>...</th>\n",
              "      <td>...</td>\n",
              "      <td>...</td>\n",
              "      <td>...</td>\n",
              "    </tr>\n",
              "    <tr>\n",
              "      <th>2195</th>\n",
              "      <td>93</td>\n",
              "      <td>39</td>\n",
              "      <td>31</td>\n",
              "    </tr>\n",
              "    <tr>\n",
              "      <th>2196</th>\n",
              "      <td>110</td>\n",
              "      <td>18</td>\n",
              "      <td>35</td>\n",
              "    </tr>\n",
              "    <tr>\n",
              "      <th>2197</th>\n",
              "      <td>89</td>\n",
              "      <td>24</td>\n",
              "      <td>31</td>\n",
              "    </tr>\n",
              "    <tr>\n",
              "      <th>2198</th>\n",
              "      <td>107</td>\n",
              "      <td>30</td>\n",
              "      <td>31</td>\n",
              "    </tr>\n",
              "    <tr>\n",
              "      <th>2199</th>\n",
              "      <td>112</td>\n",
              "      <td>25</td>\n",
              "      <td>29</td>\n",
              "    </tr>\n",
              "  </tbody>\n",
              "</table>\n",
              "<p>2200 rows × 3 columns</p>\n",
              "</div>"
            ],
            "text/plain": [
              "        N   P   K\n",
              "0      92  45  40\n",
              "1      61  47  39\n",
              "2      76  46  38\n",
              "3      86  56  36\n",
              "4      88  55  41\n",
              "...   ...  ..  ..\n",
              "2195   93  39  31\n",
              "2196  110  18  35\n",
              "2197   89  24  31\n",
              "2198  107  30  31\n",
              "2199  112  25  29\n",
              "\n",
              "[2200 rows x 3 columns]"
            ]
          },
          "metadata": {},
          "execution_count": 108
        }
      ]
    },
    {
      "cell_type": "code",
      "metadata": {
        "id": "sQVoiCe7dYQM"
      },
      "source": [
        "merge_crop['N'] = temp['N']\n",
        "merge_crop['P'] = temp['P']\n",
        "merge_crop['K'] = temp['K']"
      ],
      "execution_count": 109,
      "outputs": []
    },
    {
      "cell_type": "code",
      "metadata": {
        "id": "sVLydJokdYQN",
        "colab": {
          "base_uri": "https://localhost:8080/",
          "height": 423
        },
        "outputId": "221b443f-08b1-4b33-f3e0-b4e623a8fb6d"
      },
      "source": [
        "merge_crop"
      ],
      "execution_count": 110,
      "outputs": [
        {
          "output_type": "execute_result",
          "data": {
            "text/html": [
              "<div>\n",
              "<style scoped>\n",
              "    .dataframe tbody tr th:only-of-type {\n",
              "        vertical-align: middle;\n",
              "    }\n",
              "\n",
              "    .dataframe tbody tr th {\n",
              "        vertical-align: top;\n",
              "    }\n",
              "\n",
              "    .dataframe thead th {\n",
              "        text-align: right;\n",
              "    }\n",
              "</style>\n",
              "<table border=\"1\" class=\"dataframe\">\n",
              "  <thead>\n",
              "    <tr style=\"text-align: right;\">\n",
              "      <th></th>\n",
              "      <th>Unnamed: 0</th>\n",
              "      <th>temperature</th>\n",
              "      <th>humidity</th>\n",
              "      <th>ph</th>\n",
              "      <th>rainfall</th>\n",
              "      <th>label</th>\n",
              "      <th>N</th>\n",
              "      <th>P</th>\n",
              "      <th>K</th>\n",
              "    </tr>\n",
              "  </thead>\n",
              "  <tbody>\n",
              "    <tr>\n",
              "      <th>0</th>\n",
              "      <td>0</td>\n",
              "      <td>20.879744</td>\n",
              "      <td>82.002744</td>\n",
              "      <td>6.502985</td>\n",
              "      <td>202.935536</td>\n",
              "      <td>rice</td>\n",
              "      <td>92</td>\n",
              "      <td>45</td>\n",
              "      <td>40</td>\n",
              "    </tr>\n",
              "    <tr>\n",
              "      <th>1</th>\n",
              "      <td>1</td>\n",
              "      <td>21.770462</td>\n",
              "      <td>80.319644</td>\n",
              "      <td>7.038096</td>\n",
              "      <td>226.655537</td>\n",
              "      <td>rice</td>\n",
              "      <td>61</td>\n",
              "      <td>47</td>\n",
              "      <td>39</td>\n",
              "    </tr>\n",
              "    <tr>\n",
              "      <th>2</th>\n",
              "      <td>2</td>\n",
              "      <td>23.004459</td>\n",
              "      <td>82.320763</td>\n",
              "      <td>7.840207</td>\n",
              "      <td>263.964248</td>\n",
              "      <td>rice</td>\n",
              "      <td>76</td>\n",
              "      <td>46</td>\n",
              "      <td>38</td>\n",
              "    </tr>\n",
              "    <tr>\n",
              "      <th>3</th>\n",
              "      <td>3</td>\n",
              "      <td>26.491096</td>\n",
              "      <td>80.158363</td>\n",
              "      <td>6.980401</td>\n",
              "      <td>242.864034</td>\n",
              "      <td>rice</td>\n",
              "      <td>86</td>\n",
              "      <td>56</td>\n",
              "      <td>36</td>\n",
              "    </tr>\n",
              "    <tr>\n",
              "      <th>4</th>\n",
              "      <td>4</td>\n",
              "      <td>20.130175</td>\n",
              "      <td>81.604873</td>\n",
              "      <td>7.628473</td>\n",
              "      <td>262.717340</td>\n",
              "      <td>rice</td>\n",
              "      <td>88</td>\n",
              "      <td>55</td>\n",
              "      <td>41</td>\n",
              "    </tr>\n",
              "    <tr>\n",
              "      <th>...</th>\n",
              "      <td>...</td>\n",
              "      <td>...</td>\n",
              "      <td>...</td>\n",
              "      <td>...</td>\n",
              "      <td>...</td>\n",
              "      <td>...</td>\n",
              "      <td>...</td>\n",
              "      <td>...</td>\n",
              "      <td>...</td>\n",
              "    </tr>\n",
              "    <tr>\n",
              "      <th>2195</th>\n",
              "      <td>895</td>\n",
              "      <td>26.774637</td>\n",
              "      <td>66.413269</td>\n",
              "      <td>6.780064</td>\n",
              "      <td>177.774507</td>\n",
              "      <td>coffee</td>\n",
              "      <td>93</td>\n",
              "      <td>39</td>\n",
              "      <td>31</td>\n",
              "    </tr>\n",
              "    <tr>\n",
              "      <th>2196</th>\n",
              "      <td>896</td>\n",
              "      <td>27.417112</td>\n",
              "      <td>56.636362</td>\n",
              "      <td>6.086922</td>\n",
              "      <td>127.924610</td>\n",
              "      <td>coffee</td>\n",
              "      <td>110</td>\n",
              "      <td>18</td>\n",
              "      <td>35</td>\n",
              "    </tr>\n",
              "    <tr>\n",
              "      <th>2197</th>\n",
              "      <td>897</td>\n",
              "      <td>24.131797</td>\n",
              "      <td>67.225123</td>\n",
              "      <td>6.362608</td>\n",
              "      <td>173.322839</td>\n",
              "      <td>coffee</td>\n",
              "      <td>89</td>\n",
              "      <td>24</td>\n",
              "      <td>31</td>\n",
              "    </tr>\n",
              "    <tr>\n",
              "      <th>2198</th>\n",
              "      <td>898</td>\n",
              "      <td>26.272418</td>\n",
              "      <td>52.127394</td>\n",
              "      <td>6.758793</td>\n",
              "      <td>127.175293</td>\n",
              "      <td>coffee</td>\n",
              "      <td>107</td>\n",
              "      <td>30</td>\n",
              "      <td>31</td>\n",
              "    </tr>\n",
              "    <tr>\n",
              "      <th>2199</th>\n",
              "      <td>899</td>\n",
              "      <td>23.603016</td>\n",
              "      <td>60.396475</td>\n",
              "      <td>6.779833</td>\n",
              "      <td>140.937041</td>\n",
              "      <td>coffee</td>\n",
              "      <td>112</td>\n",
              "      <td>25</td>\n",
              "      <td>29</td>\n",
              "    </tr>\n",
              "  </tbody>\n",
              "</table>\n",
              "<p>2200 rows × 9 columns</p>\n",
              "</div>"
            ],
            "text/plain": [
              "      Unnamed: 0  temperature   humidity        ph  ...   label    N   P   K\n",
              "0              0    20.879744  82.002744  6.502985  ...    rice   92  45  40\n",
              "1              1    21.770462  80.319644  7.038096  ...    rice   61  47  39\n",
              "2              2    23.004459  82.320763  7.840207  ...    rice   76  46  38\n",
              "3              3    26.491096  80.158363  6.980401  ...    rice   86  56  36\n",
              "4              4    20.130175  81.604873  7.628473  ...    rice   88  55  41\n",
              "...          ...          ...        ...       ...  ...     ...  ...  ..  ..\n",
              "2195         895    26.774637  66.413269  6.780064  ...  coffee   93  39  31\n",
              "2196         896    27.417112  56.636362  6.086922  ...  coffee  110  18  35\n",
              "2197         897    24.131797  67.225123  6.362608  ...  coffee   89  24  31\n",
              "2198         898    26.272418  52.127394  6.758793  ...  coffee  107  30  31\n",
              "2199         899    23.603016  60.396475  6.779833  ...  coffee  112  25  29\n",
              "\n",
              "[2200 rows x 9 columns]"
            ]
          },
          "metadata": {},
          "execution_count": 110
        }
      ]
    },
    {
      "cell_type": "code",
      "metadata": {
        "id": "DOMP9dazdYQP"
      },
      "source": [
        "del merge_crop['Unnamed: 0']"
      ],
      "execution_count": 111,
      "outputs": []
    },
    {
      "cell_type": "code",
      "metadata": {
        "id": "gLOUFs7qdYQQ",
        "colab": {
          "base_uri": "https://localhost:8080/",
          "height": 423
        },
        "outputId": "50fd156c-7f6e-41e5-d137-61e50c48946b"
      },
      "source": [
        "merge_crop"
      ],
      "execution_count": 112,
      "outputs": [
        {
          "output_type": "execute_result",
          "data": {
            "text/html": [
              "<div>\n",
              "<style scoped>\n",
              "    .dataframe tbody tr th:only-of-type {\n",
              "        vertical-align: middle;\n",
              "    }\n",
              "\n",
              "    .dataframe tbody tr th {\n",
              "        vertical-align: top;\n",
              "    }\n",
              "\n",
              "    .dataframe thead th {\n",
              "        text-align: right;\n",
              "    }\n",
              "</style>\n",
              "<table border=\"1\" class=\"dataframe\">\n",
              "  <thead>\n",
              "    <tr style=\"text-align: right;\">\n",
              "      <th></th>\n",
              "      <th>temperature</th>\n",
              "      <th>humidity</th>\n",
              "      <th>ph</th>\n",
              "      <th>rainfall</th>\n",
              "      <th>label</th>\n",
              "      <th>N</th>\n",
              "      <th>P</th>\n",
              "      <th>K</th>\n",
              "    </tr>\n",
              "  </thead>\n",
              "  <tbody>\n",
              "    <tr>\n",
              "      <th>0</th>\n",
              "      <td>20.879744</td>\n",
              "      <td>82.002744</td>\n",
              "      <td>6.502985</td>\n",
              "      <td>202.935536</td>\n",
              "      <td>rice</td>\n",
              "      <td>92</td>\n",
              "      <td>45</td>\n",
              "      <td>40</td>\n",
              "    </tr>\n",
              "    <tr>\n",
              "      <th>1</th>\n",
              "      <td>21.770462</td>\n",
              "      <td>80.319644</td>\n",
              "      <td>7.038096</td>\n",
              "      <td>226.655537</td>\n",
              "      <td>rice</td>\n",
              "      <td>61</td>\n",
              "      <td>47</td>\n",
              "      <td>39</td>\n",
              "    </tr>\n",
              "    <tr>\n",
              "      <th>2</th>\n",
              "      <td>23.004459</td>\n",
              "      <td>82.320763</td>\n",
              "      <td>7.840207</td>\n",
              "      <td>263.964248</td>\n",
              "      <td>rice</td>\n",
              "      <td>76</td>\n",
              "      <td>46</td>\n",
              "      <td>38</td>\n",
              "    </tr>\n",
              "    <tr>\n",
              "      <th>3</th>\n",
              "      <td>26.491096</td>\n",
              "      <td>80.158363</td>\n",
              "      <td>6.980401</td>\n",
              "      <td>242.864034</td>\n",
              "      <td>rice</td>\n",
              "      <td>86</td>\n",
              "      <td>56</td>\n",
              "      <td>36</td>\n",
              "    </tr>\n",
              "    <tr>\n",
              "      <th>4</th>\n",
              "      <td>20.130175</td>\n",
              "      <td>81.604873</td>\n",
              "      <td>7.628473</td>\n",
              "      <td>262.717340</td>\n",
              "      <td>rice</td>\n",
              "      <td>88</td>\n",
              "      <td>55</td>\n",
              "      <td>41</td>\n",
              "    </tr>\n",
              "    <tr>\n",
              "      <th>...</th>\n",
              "      <td>...</td>\n",
              "      <td>...</td>\n",
              "      <td>...</td>\n",
              "      <td>...</td>\n",
              "      <td>...</td>\n",
              "      <td>...</td>\n",
              "      <td>...</td>\n",
              "      <td>...</td>\n",
              "    </tr>\n",
              "    <tr>\n",
              "      <th>2195</th>\n",
              "      <td>26.774637</td>\n",
              "      <td>66.413269</td>\n",
              "      <td>6.780064</td>\n",
              "      <td>177.774507</td>\n",
              "      <td>coffee</td>\n",
              "      <td>93</td>\n",
              "      <td>39</td>\n",
              "      <td>31</td>\n",
              "    </tr>\n",
              "    <tr>\n",
              "      <th>2196</th>\n",
              "      <td>27.417112</td>\n",
              "      <td>56.636362</td>\n",
              "      <td>6.086922</td>\n",
              "      <td>127.924610</td>\n",
              "      <td>coffee</td>\n",
              "      <td>110</td>\n",
              "      <td>18</td>\n",
              "      <td>35</td>\n",
              "    </tr>\n",
              "    <tr>\n",
              "      <th>2197</th>\n",
              "      <td>24.131797</td>\n",
              "      <td>67.225123</td>\n",
              "      <td>6.362608</td>\n",
              "      <td>173.322839</td>\n",
              "      <td>coffee</td>\n",
              "      <td>89</td>\n",
              "      <td>24</td>\n",
              "      <td>31</td>\n",
              "    </tr>\n",
              "    <tr>\n",
              "      <th>2198</th>\n",
              "      <td>26.272418</td>\n",
              "      <td>52.127394</td>\n",
              "      <td>6.758793</td>\n",
              "      <td>127.175293</td>\n",
              "      <td>coffee</td>\n",
              "      <td>107</td>\n",
              "      <td>30</td>\n",
              "      <td>31</td>\n",
              "    </tr>\n",
              "    <tr>\n",
              "      <th>2199</th>\n",
              "      <td>23.603016</td>\n",
              "      <td>60.396475</td>\n",
              "      <td>6.779833</td>\n",
              "      <td>140.937041</td>\n",
              "      <td>coffee</td>\n",
              "      <td>112</td>\n",
              "      <td>25</td>\n",
              "      <td>29</td>\n",
              "    </tr>\n",
              "  </tbody>\n",
              "</table>\n",
              "<p>2200 rows × 8 columns</p>\n",
              "</div>"
            ],
            "text/plain": [
              "      temperature   humidity        ph    rainfall   label    N   P   K\n",
              "0       20.879744  82.002744  6.502985  202.935536    rice   92  45  40\n",
              "1       21.770462  80.319644  7.038096  226.655537    rice   61  47  39\n",
              "2       23.004459  82.320763  7.840207  263.964248    rice   76  46  38\n",
              "3       26.491096  80.158363  6.980401  242.864034    rice   86  56  36\n",
              "4       20.130175  81.604873  7.628473  262.717340    rice   88  55  41\n",
              "...           ...        ...       ...         ...     ...  ...  ..  ..\n",
              "2195    26.774637  66.413269  6.780064  177.774507  coffee   93  39  31\n",
              "2196    27.417112  56.636362  6.086922  127.924610  coffee  110  18  35\n",
              "2197    24.131797  67.225123  6.362608  173.322839  coffee   89  24  31\n",
              "2198    26.272418  52.127394  6.758793  127.175293  coffee  107  30  31\n",
              "2199    23.603016  60.396475  6.779833  140.937041  coffee  112  25  29\n",
              "\n",
              "[2200 rows x 8 columns]"
            ]
          },
          "metadata": {},
          "execution_count": 112
        }
      ]
    },
    {
      "cell_type": "code",
      "metadata": {
        "id": "guiN_3vIdYQR"
      },
      "source": [
        "merge_crop = merge_crop[[ 'N', 'P', 'K','temperature', 'humidity', 'ph', 'rainfall', 'label']]"
      ],
      "execution_count": 113,
      "outputs": []
    },
    {
      "cell_type": "code",
      "metadata": {
        "id": "PZyK6IKudYQU"
      },
      "source": [
        "merge_crop.to_csv(\"/content/drive/MyDrive/CSE305-ML/project/Data-processed/crop_recommendation.csv\",index=False)"
      ],
      "execution_count": 114,
      "outputs": []
    },
    {
      "cell_type": "code",
      "metadata": {
        "id": "DmGQcGwUdYQV"
      },
      "source": [
        "# Checking if everything went fine\n",
        "df = pd.read_csv('/content/drive/MyDrive/CSE305-ML/project/Data-processed/crop_recommendation.csv')"
      ],
      "execution_count": 115,
      "outputs": []
    },
    {
      "cell_type": "code",
      "metadata": {
        "id": "fRRN2SQNdYQW",
        "colab": {
          "base_uri": "https://localhost:8080/",
          "height": 206
        },
        "outputId": "3aee0adf-7d08-439f-b7b9-45f40475d253"
      },
      "source": [
        "df.head()"
      ],
      "execution_count": 116,
      "outputs": [
        {
          "output_type": "execute_result",
          "data": {
            "text/html": [
              "<div>\n",
              "<style scoped>\n",
              "    .dataframe tbody tr th:only-of-type {\n",
              "        vertical-align: middle;\n",
              "    }\n",
              "\n",
              "    .dataframe tbody tr th {\n",
              "        vertical-align: top;\n",
              "    }\n",
              "\n",
              "    .dataframe thead th {\n",
              "        text-align: right;\n",
              "    }\n",
              "</style>\n",
              "<table border=\"1\" class=\"dataframe\">\n",
              "  <thead>\n",
              "    <tr style=\"text-align: right;\">\n",
              "      <th></th>\n",
              "      <th>N</th>\n",
              "      <th>P</th>\n",
              "      <th>K</th>\n",
              "      <th>temperature</th>\n",
              "      <th>humidity</th>\n",
              "      <th>ph</th>\n",
              "      <th>rainfall</th>\n",
              "      <th>label</th>\n",
              "    </tr>\n",
              "  </thead>\n",
              "  <tbody>\n",
              "    <tr>\n",
              "      <th>0</th>\n",
              "      <td>92</td>\n",
              "      <td>45</td>\n",
              "      <td>40</td>\n",
              "      <td>20.879744</td>\n",
              "      <td>82.002744</td>\n",
              "      <td>6.502985</td>\n",
              "      <td>202.935536</td>\n",
              "      <td>rice</td>\n",
              "    </tr>\n",
              "    <tr>\n",
              "      <th>1</th>\n",
              "      <td>61</td>\n",
              "      <td>47</td>\n",
              "      <td>39</td>\n",
              "      <td>21.770462</td>\n",
              "      <td>80.319644</td>\n",
              "      <td>7.038096</td>\n",
              "      <td>226.655537</td>\n",
              "      <td>rice</td>\n",
              "    </tr>\n",
              "    <tr>\n",
              "      <th>2</th>\n",
              "      <td>76</td>\n",
              "      <td>46</td>\n",
              "      <td>38</td>\n",
              "      <td>23.004459</td>\n",
              "      <td>82.320763</td>\n",
              "      <td>7.840207</td>\n",
              "      <td>263.964248</td>\n",
              "      <td>rice</td>\n",
              "    </tr>\n",
              "    <tr>\n",
              "      <th>3</th>\n",
              "      <td>86</td>\n",
              "      <td>56</td>\n",
              "      <td>36</td>\n",
              "      <td>26.491096</td>\n",
              "      <td>80.158363</td>\n",
              "      <td>6.980401</td>\n",
              "      <td>242.864034</td>\n",
              "      <td>rice</td>\n",
              "    </tr>\n",
              "    <tr>\n",
              "      <th>4</th>\n",
              "      <td>88</td>\n",
              "      <td>55</td>\n",
              "      <td>41</td>\n",
              "      <td>20.130175</td>\n",
              "      <td>81.604873</td>\n",
              "      <td>7.628473</td>\n",
              "      <td>262.717340</td>\n",
              "      <td>rice</td>\n",
              "    </tr>\n",
              "  </tbody>\n",
              "</table>\n",
              "</div>"
            ],
            "text/plain": [
              "    N   P   K  temperature   humidity        ph    rainfall label\n",
              "0  92  45  40    20.879744  82.002744  6.502985  202.935536  rice\n",
              "1  61  47  39    21.770462  80.319644  7.038096  226.655537  rice\n",
              "2  76  46  38    23.004459  82.320763  7.840207  263.964248  rice\n",
              "3  86  56  36    26.491096  80.158363  6.980401  242.864034  rice\n",
              "4  88  55  41    20.130175  81.604873  7.628473  262.717340  rice"
            ]
          },
          "metadata": {},
          "execution_count": 116
        }
      ]
    },
    {
      "cell_type": "code",
      "metadata": {
        "id": "Xylr9-sRdYQX",
        "colab": {
          "base_uri": "https://localhost:8080/"
        },
        "outputId": "f8c2eda2-1690-402f-e32a-d547e6ed1f9e"
      },
      "source": [
        "df.shape"
      ],
      "execution_count": 117,
      "outputs": [
        {
          "output_type": "execute_result",
          "data": {
            "text/plain": [
              "(2200, 8)"
            ]
          },
          "metadata": {},
          "execution_count": 117
        }
      ]
    },
    {
      "cell_type": "markdown",
      "metadata": {
        "id": "ljT3QwLwiSiu"
      },
      "source": [
        "# Exploratory data Analysis and Visualisation"
      ]
    },
    {
      "cell_type": "code",
      "metadata": {
        "id": "lWxLsGfGsaoE"
      },
      "source": [
        "fin_fert = pd.read_csv('/content/drive/MyDrive/CSE305-ML/project/Data-processed/fertilizerdata.csv')\n",
        "fin_cprec = pd.read_csv('/content/drive/MyDrive/CSE305-ML/project/Data-processed/crop_recommendation.csv')"
      ],
      "execution_count": 118,
      "outputs": []
    },
    {
      "cell_type": "code",
      "metadata": {
        "id": "oJ2A-B8pdYPu",
        "colab": {
          "base_uri": "https://localhost:8080/",
          "height": 206
        },
        "outputId": "93825b63-98b0-4573-b8e1-809da68d6a7f"
      },
      "source": [
        "fin_fert.head()"
      ],
      "execution_count": 119,
      "outputs": [
        {
          "output_type": "execute_result",
          "data": {
            "text/html": [
              "<div>\n",
              "<style scoped>\n",
              "    .dataframe tbody tr th:only-of-type {\n",
              "        vertical-align: middle;\n",
              "    }\n",
              "\n",
              "    .dataframe tbody tr th {\n",
              "        vertical-align: top;\n",
              "    }\n",
              "\n",
              "    .dataframe thead th {\n",
              "        text-align: right;\n",
              "    }\n",
              "</style>\n",
              "<table border=\"1\" class=\"dataframe\">\n",
              "  <thead>\n",
              "    <tr style=\"text-align: right;\">\n",
              "      <th></th>\n",
              "      <th>Unnamed: 0</th>\n",
              "      <th>Crop</th>\n",
              "      <th>N</th>\n",
              "      <th>P</th>\n",
              "      <th>K</th>\n",
              "      <th>pH</th>\n",
              "    </tr>\n",
              "  </thead>\n",
              "  <tbody>\n",
              "    <tr>\n",
              "      <th>0</th>\n",
              "      <td>0</td>\n",
              "      <td>rice</td>\n",
              "      <td>80</td>\n",
              "      <td>40</td>\n",
              "      <td>40</td>\n",
              "      <td>5.5</td>\n",
              "    </tr>\n",
              "    <tr>\n",
              "      <th>1</th>\n",
              "      <td>3</td>\n",
              "      <td>maize</td>\n",
              "      <td>80</td>\n",
              "      <td>40</td>\n",
              "      <td>20</td>\n",
              "      <td>5.5</td>\n",
              "    </tr>\n",
              "    <tr>\n",
              "      <th>2</th>\n",
              "      <td>5</td>\n",
              "      <td>chickpea</td>\n",
              "      <td>40</td>\n",
              "      <td>60</td>\n",
              "      <td>80</td>\n",
              "      <td>5.5</td>\n",
              "    </tr>\n",
              "    <tr>\n",
              "      <th>3</th>\n",
              "      <td>12</td>\n",
              "      <td>kidneybeans</td>\n",
              "      <td>20</td>\n",
              "      <td>60</td>\n",
              "      <td>20</td>\n",
              "      <td>5.5</td>\n",
              "    </tr>\n",
              "    <tr>\n",
              "      <th>4</th>\n",
              "      <td>13</td>\n",
              "      <td>pigeonpeas</td>\n",
              "      <td>20</td>\n",
              "      <td>60</td>\n",
              "      <td>20</td>\n",
              "      <td>5.5</td>\n",
              "    </tr>\n",
              "  </tbody>\n",
              "</table>\n",
              "</div>"
            ],
            "text/plain": [
              "   Unnamed: 0         Crop   N   P   K   pH\n",
              "0           0         rice  80  40  40  5.5\n",
              "1           3        maize  80  40  20  5.5\n",
              "2           5     chickpea  40  60  80  5.5\n",
              "3          12  kidneybeans  20  60  20  5.5\n",
              "4          13   pigeonpeas  20  60  20  5.5"
            ]
          },
          "metadata": {},
          "execution_count": 119
        }
      ]
    },
    {
      "cell_type": "code",
      "metadata": {
        "colab": {
          "base_uri": "https://localhost:8080/",
          "height": 300
        },
        "id": "-gbvW058pKJh",
        "outputId": "aed513c0-14ff-4b9a-924c-47763ff76242"
      },
      "source": [
        "fin_fert.describe()"
      ],
      "execution_count": 120,
      "outputs": [
        {
          "output_type": "execute_result",
          "data": {
            "text/html": [
              "<div>\n",
              "<style scoped>\n",
              "    .dataframe tbody tr th:only-of-type {\n",
              "        vertical-align: middle;\n",
              "    }\n",
              "\n",
              "    .dataframe tbody tr th {\n",
              "        vertical-align: top;\n",
              "    }\n",
              "\n",
              "    .dataframe thead th {\n",
              "        text-align: right;\n",
              "    }\n",
              "</style>\n",
              "<table border=\"1\" class=\"dataframe\">\n",
              "  <thead>\n",
              "    <tr style=\"text-align: right;\">\n",
              "      <th></th>\n",
              "      <th>Unnamed: 0</th>\n",
              "      <th>N</th>\n",
              "      <th>P</th>\n",
              "      <th>K</th>\n",
              "      <th>pH</th>\n",
              "    </tr>\n",
              "  </thead>\n",
              "  <tbody>\n",
              "    <tr>\n",
              "      <th>count</th>\n",
              "      <td>22.000000</td>\n",
              "      <td>22.000000</td>\n",
              "      <td>22.000000</td>\n",
              "      <td>22.000000</td>\n",
              "      <td>22.000000</td>\n",
              "    </tr>\n",
              "    <tr>\n",
              "      <th>mean</th>\n",
              "      <td>48.681818</td>\n",
              "      <td>50.454545</td>\n",
              "      <td>45.681818</td>\n",
              "      <td>48.181818</td>\n",
              "      <td>5.409091</td>\n",
              "    </tr>\n",
              "    <tr>\n",
              "      <th>std</th>\n",
              "      <td>33.540858</td>\n",
              "      <td>36.315715</td>\n",
              "      <td>32.634172</td>\n",
              "      <td>51.698426</td>\n",
              "      <td>0.590326</td>\n",
              "    </tr>\n",
              "    <tr>\n",
              "      <th>min</th>\n",
              "      <td>0.000000</td>\n",
              "      <td>20.000000</td>\n",
              "      <td>10.000000</td>\n",
              "      <td>10.000000</td>\n",
              "      <td>4.000000</td>\n",
              "    </tr>\n",
              "    <tr>\n",
              "      <th>25%</th>\n",
              "      <td>14.250000</td>\n",
              "      <td>20.000000</td>\n",
              "      <td>20.000000</td>\n",
              "      <td>20.000000</td>\n",
              "      <td>5.500000</td>\n",
              "    </tr>\n",
              "    <tr>\n",
              "      <th>50%</th>\n",
              "      <td>61.500000</td>\n",
              "      <td>30.000000</td>\n",
              "      <td>40.000000</td>\n",
              "      <td>30.000000</td>\n",
              "      <td>5.500000</td>\n",
              "    </tr>\n",
              "    <tr>\n",
              "      <th>75%</th>\n",
              "      <td>72.750000</td>\n",
              "      <td>80.000000</td>\n",
              "      <td>60.000000</td>\n",
              "      <td>50.000000</td>\n",
              "      <td>5.500000</td>\n",
              "    </tr>\n",
              "    <tr>\n",
              "      <th>max</th>\n",
              "      <td>95.000000</td>\n",
              "      <td>120.000000</td>\n",
              "      <td>125.000000</td>\n",
              "      <td>200.000000</td>\n",
              "      <td>6.500000</td>\n",
              "    </tr>\n",
              "  </tbody>\n",
              "</table>\n",
              "</div>"
            ],
            "text/plain": [
              "       Unnamed: 0           N           P           K         pH\n",
              "count   22.000000   22.000000   22.000000   22.000000  22.000000\n",
              "mean    48.681818   50.454545   45.681818   48.181818   5.409091\n",
              "std     33.540858   36.315715   32.634172   51.698426   0.590326\n",
              "min      0.000000   20.000000   10.000000   10.000000   4.000000\n",
              "25%     14.250000   20.000000   20.000000   20.000000   5.500000\n",
              "50%     61.500000   30.000000   40.000000   30.000000   5.500000\n",
              "75%     72.750000   80.000000   60.000000   50.000000   5.500000\n",
              "max     95.000000  120.000000  125.000000  200.000000   6.500000"
            ]
          },
          "metadata": {},
          "execution_count": 120
        }
      ]
    },
    {
      "cell_type": "code",
      "metadata": {
        "colab": {
          "base_uri": "https://localhost:8080/"
        },
        "id": "kdRzpt97pTyV",
        "outputId": "130c46d4-3bd3-435a-dadd-080ce0e8645f"
      },
      "source": [
        "fin_fert['Crop'].unique()"
      ],
      "execution_count": 121,
      "outputs": [
        {
          "output_type": "execute_result",
          "data": {
            "text/plain": [
              "array(['rice', 'maize', 'chickpea', 'kidneybeans', 'pigeonpeas',\n",
              "       'mothbeans', 'mungbean', 'blackgram', 'lentil', 'pomegranate',\n",
              "       'banana', 'mango', 'grapes', 'watermelon', 'muskmelon', 'apple',\n",
              "       'orange', 'papaya', 'coconut', 'cotton', 'jute', 'coffee'],\n",
              "      dtype=object)"
            ]
          },
          "metadata": {},
          "execution_count": 121
        }
      ]
    },
    {
      "cell_type": "code",
      "metadata": {
        "id": "2yN-WK0ldYP7",
        "colab": {
          "base_uri": "https://localhost:8080/",
          "height": 282
        },
        "outputId": "c1031cd9-8f6e-4a19-bc66-b9cb0d977e22"
      },
      "source": [
        "plt.plot(fin_fert[\"N\"])"
      ],
      "execution_count": 122,
      "outputs": [
        {
          "output_type": "execute_result",
          "data": {
            "text/plain": [
              "[<matplotlib.lines.Line2D at 0x7f005b198490>]"
            ]
          },
          "metadata": {},
          "execution_count": 122
        },
        {
          "output_type": "display_data",
          "data": {
            "image/png": "[encoded data removed]",
            "text/plain": [
              "<Figure size 432x288 with 1 Axes>"
            ]
          },
          "metadata": {
            "needs_background": "light"
          }
        }
      ]
    },
    {
      "cell_type": "code",
      "metadata": {
        "id": "lemafJ6kdYP9",
        "colab": {
          "base_uri": "https://localhost:8080/",
          "height": 282
        },
        "outputId": "a84a6e8d-5f63-4d99-e26c-3e388456a1a3"
      },
      "source": [
        "plt.plot(fin_fert[\"P\"])"
      ],
      "execution_count": 123,
      "outputs": [
        {
          "output_type": "execute_result",
          "data": {
            "text/plain": [
              "[<matplotlib.lines.Line2D at 0x7f005b0fc710>]"
            ]
          },
          "metadata": {},
          "execution_count": 123
        },
        {
          "output_type": "display_data",
          "data": {
            "image/png": "[encoded data removed]",
            "text/plain": [
              "<Figure size 432x288 with 1 Axes>"
            ]
          },
          "metadata": {
            "needs_background": "light"
          }
        }
      ]
    },
    {
      "cell_type": "code",
      "metadata": {
        "colab": {
          "base_uri": "https://localhost:8080/",
          "height": 282
        },
        "id": "DNSHiy-Wp7St",
        "outputId": "729fab6d-cd36-4d39-bdfc-d7b204f77e20"
      },
      "source": [
        "plt.plot(fin_fert[\"K\"])"
      ],
      "execution_count": 124,
      "outputs": [
        {
          "output_type": "execute_result",
          "data": {
            "text/plain": [
              "[<matplotlib.lines.Line2D at 0x7f005b0df790>]"
            ]
          },
          "metadata": {},
          "execution_count": 124
        },
        {
          "output_type": "display_data",
          "data": {
            "image/png": "[encoded data removed]",
            "text/plain": [
              "<Figure size 432x288 with 1 Axes>"
            ]
          },
          "metadata": {
            "needs_background": "light"
          }
        }
      ]
    },
    {
      "cell_type": "code",
      "metadata": {
        "colab": {
          "base_uri": "https://localhost:8080/",
          "height": 291
        },
        "id": "dQYs9J2hihoj",
        "outputId": "c15506f6-28fc-49d0-bd99-36d9f79e2262"
      },
      "source": [
        "sns.heatmap(fin_fert.corr(),annot=True)"
      ],
      "execution_count": 125,
      "outputs": [
        {
          "output_type": "execute_result",
          "data": {
            "text/plain": [
              "<matplotlib.axes._subplots.AxesSubplot at 0x7f005b09ccd0>"
            ]
          },
          "metadata": {},
          "execution_count": 125
        },
        {
          "output_type": "display_data",
          "data": {
            "image/png": "[encoded data removed]",
            "text/plain": [
              "<Figure size 432x288 with 2 Axes>"
            ]
          },
          "metadata": {
            "needs_background": "light"
          }
        }
      ]
    },
    {
      "cell_type": "code",
      "metadata": {
        "colab": {
          "base_uri": "https://localhost:8080/",
          "height": 206
        },
        "id": "LoyASzOcrOnc",
        "outputId": "3df76b23-a875-4945-9cbf-f4fbb837f351"
      },
      "source": [
        "fin_cprec.head()"
      ],
      "execution_count": 126,
      "outputs": [
        {
          "output_type": "execute_result",
          "data": {
            "text/html": [
              "<div>\n",
              "<style scoped>\n",
              "    .dataframe tbody tr th:only-of-type {\n",
              "        vertical-align: middle;\n",
              "    }\n",
              "\n",
              "    .dataframe tbody tr th {\n",
              "        vertical-align: top;\n",
              "    }\n",
              "\n",
              "    .dataframe thead th {\n",
              "        text-align: right;\n",
              "    }\n",
              "</style>\n",
              "<table border=\"1\" class=\"dataframe\">\n",
              "  <thead>\n",
              "    <tr style=\"text-align: right;\">\n",
              "      <th></th>\n",
              "      <th>N</th>\n",
              "      <th>P</th>\n",
              "      <th>K</th>\n",
              "      <th>temperature</th>\n",
              "      <th>humidity</th>\n",
              "      <th>ph</th>\n",
              "      <th>rainfall</th>\n",
              "      <th>label</th>\n",
              "    </tr>\n",
              "  </thead>\n",
              "  <tbody>\n",
              "    <tr>\n",
              "      <th>0</th>\n",
              "      <td>92</td>\n",
              "      <td>45</td>\n",
              "      <td>40</td>\n",
              "      <td>20.879744</td>\n",
              "      <td>82.002744</td>\n",
              "      <td>6.502985</td>\n",
              "      <td>202.935536</td>\n",
              "      <td>rice</td>\n",
              "    </tr>\n",
              "    <tr>\n",
              "      <th>1</th>\n",
              "      <td>61</td>\n",
              "      <td>47</td>\n",
              "      <td>39</td>\n",
              "      <td>21.770462</td>\n",
              "      <td>80.319644</td>\n",
              "      <td>7.038096</td>\n",
              "      <td>226.655537</td>\n",
              "      <td>rice</td>\n",
              "    </tr>\n",
              "    <tr>\n",
              "      <th>2</th>\n",
              "      <td>76</td>\n",
              "      <td>46</td>\n",
              "      <td>38</td>\n",
              "      <td>23.004459</td>\n",
              "      <td>82.320763</td>\n",
              "      <td>7.840207</td>\n",
              "      <td>263.964248</td>\n",
              "      <td>rice</td>\n",
              "    </tr>\n",
              "    <tr>\n",
              "      <th>3</th>\n",
              "      <td>86</td>\n",
              "      <td>56</td>\n",
              "      <td>36</td>\n",
              "      <td>26.491096</td>\n",
              "      <td>80.158363</td>\n",
              "      <td>6.980401</td>\n",
              "      <td>242.864034</td>\n",
              "      <td>rice</td>\n",
              "    </tr>\n",
              "    <tr>\n",
              "      <th>4</th>\n",
              "      <td>88</td>\n",
              "      <td>55</td>\n",
              "      <td>41</td>\n",
              "      <td>20.130175</td>\n",
              "      <td>81.604873</td>\n",
              "      <td>7.628473</td>\n",
              "      <td>262.717340</td>\n",
              "      <td>rice</td>\n",
              "    </tr>\n",
              "  </tbody>\n",
              "</table>\n",
              "</div>"
            ],
            "text/plain": [
              "    N   P   K  temperature   humidity        ph    rainfall label\n",
              "0  92  45  40    20.879744  82.002744  6.502985  202.935536  rice\n",
              "1  61  47  39    21.770462  80.319644  7.038096  226.655537  rice\n",
              "2  76  46  38    23.004459  82.320763  7.840207  263.964248  rice\n",
              "3  86  56  36    26.491096  80.158363  6.980401  242.864034  rice\n",
              "4  88  55  41    20.130175  81.604873  7.628473  262.717340  rice"
            ]
          },
          "metadata": {},
          "execution_count": 126
        }
      ]
    },
    {
      "cell_type": "code",
      "metadata": {
        "colab": {
          "base_uri": "https://localhost:8080/",
          "height": 300
        },
        "id": "x7fN3p9QrOnc",
        "outputId": "21c5e61b-d809-4d27-d80c-d0d4d63ebf0e"
      },
      "source": [
        "fin_cprec.describe()"
      ],
      "execution_count": 127,
      "outputs": [
        {
          "output_type": "execute_result",
          "data": {
            "text/html": [
              "<div>\n",
              "<style scoped>\n",
              "    .dataframe tbody tr th:only-of-type {\n",
              "        vertical-align: middle;\n",
              "    }\n",
              "\n",
              "    .dataframe tbody tr th {\n",
              "        vertical-align: top;\n",
              "    }\n",
              "\n",
              "    .dataframe thead th {\n",
              "        text-align: right;\n",
              "    }\n",
              "</style>\n",
              "<table border=\"1\" class=\"dataframe\">\n",
              "  <thead>\n",
              "    <tr style=\"text-align: right;\">\n",
              "      <th></th>\n",
              "      <th>N</th>\n",
              "      <th>P</th>\n",
              "      <th>K</th>\n",
              "      <th>temperature</th>\n",
              "      <th>humidity</th>\n",
              "      <th>ph</th>\n",
              "      <th>rainfall</th>\n",
              "    </tr>\n",
              "  </thead>\n",
              "  <tbody>\n",
              "    <tr>\n",
              "      <th>count</th>\n",
              "      <td>2200.000000</td>\n",
              "      <td>2200.000000</td>\n",
              "      <td>2200.000000</td>\n",
              "      <td>2200.000000</td>\n",
              "      <td>2200.000000</td>\n",
              "      <td>2200.000000</td>\n",
              "      <td>2200.000000</td>\n",
              "    </tr>\n",
              "    <tr>\n",
              "      <th>mean</th>\n",
              "      <td>50.780909</td>\n",
              "      <td>52.968182</td>\n",
              "      <td>48.315909</td>\n",
              "      <td>25.616244</td>\n",
              "      <td>71.481779</td>\n",
              "      <td>6.469480</td>\n",
              "      <td>103.463655</td>\n",
              "    </tr>\n",
              "    <tr>\n",
              "      <th>std</th>\n",
              "      <td>37.575429</td>\n",
              "      <td>32.969247</td>\n",
              "      <td>50.591991</td>\n",
              "      <td>5.063749</td>\n",
              "      <td>22.263812</td>\n",
              "      <td>0.773938</td>\n",
              "      <td>54.958389</td>\n",
              "    </tr>\n",
              "    <tr>\n",
              "      <th>min</th>\n",
              "      <td>0.000000</td>\n",
              "      <td>5.000000</td>\n",
              "      <td>5.000000</td>\n",
              "      <td>8.825675</td>\n",
              "      <td>14.258040</td>\n",
              "      <td>3.504752</td>\n",
              "      <td>20.211267</td>\n",
              "    </tr>\n",
              "    <tr>\n",
              "      <th>25%</th>\n",
              "      <td>21.000000</td>\n",
              "      <td>27.000000</td>\n",
              "      <td>21.000000</td>\n",
              "      <td>22.769375</td>\n",
              "      <td>60.261953</td>\n",
              "      <td>5.971693</td>\n",
              "      <td>64.551686</td>\n",
              "    </tr>\n",
              "    <tr>\n",
              "      <th>50%</th>\n",
              "      <td>37.000000</td>\n",
              "      <td>50.000000</td>\n",
              "      <td>32.000000</td>\n",
              "      <td>25.598693</td>\n",
              "      <td>80.473146</td>\n",
              "      <td>6.425045</td>\n",
              "      <td>94.867624</td>\n",
              "    </tr>\n",
              "    <tr>\n",
              "      <th>75%</th>\n",
              "      <td>87.250000</td>\n",
              "      <td>67.000000</td>\n",
              "      <td>49.000000</td>\n",
              "      <td>28.561654</td>\n",
              "      <td>89.948771</td>\n",
              "      <td>6.923643</td>\n",
              "      <td>124.267508</td>\n",
              "    </tr>\n",
              "    <tr>\n",
              "      <th>max</th>\n",
              "      <td>139.000000</td>\n",
              "      <td>145.000000</td>\n",
              "      <td>205.000000</td>\n",
              "      <td>43.675493</td>\n",
              "      <td>99.981876</td>\n",
              "      <td>9.935091</td>\n",
              "      <td>298.560117</td>\n",
              "    </tr>\n",
              "  </tbody>\n",
              "</table>\n",
              "</div>"
            ],
            "text/plain": [
              "                 N            P  ...           ph     rainfall\n",
              "count  2200.000000  2200.000000  ...  2200.000000  2200.000000\n",
              "mean     50.780909    52.968182  ...     6.469480   103.463655\n",
              "std      37.575429    32.969247  ...     0.773938    54.958389\n",
              "min       0.000000     5.000000  ...     3.504752    20.211267\n",
              "25%      21.000000    27.000000  ...     5.971693    64.551686\n",
              "50%      37.000000    50.000000  ...     6.425045    94.867624\n",
              "75%      87.250000    67.000000  ...     6.923643   124.267508\n",
              "max     139.000000   145.000000  ...     9.935091   298.560117\n",
              "\n",
              "[8 rows x 7 columns]"
            ]
          },
          "metadata": {},
          "execution_count": 127
        }
      ]
    },
    {
      "cell_type": "code",
      "metadata": {
        "colab": {
          "base_uri": "https://localhost:8080/"
        },
        "id": "dHPxk9ozrOnc",
        "outputId": "8b7e84ae-307f-4109-a9e8-ae17bb410037"
      },
      "source": [
        "fin_cprec['label'].unique()"
      ],
      "execution_count": 133,
      "outputs": [
        {
          "output_type": "execute_result",
          "data": {
            "text/plain": [
              "array(['rice', 'maize', 'chickpea', 'kidneybeans', 'pigeonpeas',\n",
              "       'mothbeans', 'mungbean', 'blackgram', 'lentil', 'pomegranate',\n",
              "       'banana', 'mango', 'grapes', 'watermelon', 'muskmelon', 'apple',\n",
              "       'orange', 'papaya', 'coconut', 'cotton', 'jute', 'coffee'],\n",
              "      dtype=object)"
            ]
          },
          "metadata": {},
          "execution_count": 133
        }
      ]
    },
    {
      "cell_type": "code",
      "metadata": {
        "colab": {
          "base_uri": "https://localhost:8080/",
          "height": 282
        },
        "id": "PvpXGw7nrOnd",
        "outputId": "6c472839-6b61-4248-f9c5-0a77ccc8b237"
      },
      "source": [
        "plt.plot(fin_cprec[\"N\"])"
      ],
      "execution_count": 129,
      "outputs": [
        {
          "output_type": "execute_result",
          "data": {
            "text/plain": [
              "[<matplotlib.lines.Line2D at 0x7f005af3e190>]"
            ]
          },
          "metadata": {},
          "execution_count": 129
        },
        {
          "output_type": "display_data",
          "data": {
            "image/png": "[encoded data removed]",
            "text/plain": [
              "<Figure size 432x288 with 1 Axes>"
            ]
          },
          "metadata": {
            "needs_background": "light"
          }
        }
      ]
    },
    {
      "cell_type": "code",
      "metadata": {
        "colab": {
          "base_uri": "https://localhost:8080/",
          "height": 282
        },
        "id": "d13yP1ujrOnd",
        "outputId": "7ae4fab4-a164-466c-d7c7-c8290fca2449"
      },
      "source": [
        "plt.plot(fin_cprec[\"P\"])"
      ],
      "execution_count": 130,
      "outputs": [
        {
          "output_type": "execute_result",
          "data": {
            "text/plain": [
              "[<matplotlib.lines.Line2D at 0x7f005af28190>]"
            ]
          },
          "metadata": {},
          "execution_count": 130
        },
        {
          "output_type": "display_data",
          "data": {
            "image/png": "[encoded data removed]",
            "text/plain": [
              "<Figure size 432x288 with 1 Axes>"
            ]
          },
          "metadata": {
            "needs_background": "light"
          }
        }
      ]
    },
    {
      "cell_type": "code",
      "metadata": {
        "colab": {
          "base_uri": "https://localhost:8080/",
          "height": 282
        },
        "id": "is55jEbbrOnd",
        "outputId": "72f6563c-cd00-4117-f471-6e8adc4cbb5d"
      },
      "source": [
        "plt.plot(fin_cprec[\"K\"])"
      ],
      "execution_count": 131,
      "outputs": [
        {
          "output_type": "execute_result",
          "data": {
            "text/plain": [
              "[<matplotlib.lines.Line2D at 0x7f005ae90310>]"
            ]
          },
          "metadata": {},
          "execution_count": 131
        },
        {
          "output_type": "display_data",
          "data": {
            "image/png": "[encoded data removed]",
            "text/plain": [
              "<Figure size 432x288 with 1 Axes>"
            ]
          },
          "metadata": {
            "needs_background": "light"
          }
        }
      ]
    },
    {
      "cell_type": "code",
      "metadata": {
        "colab": {
          "base_uri": "https://localhost:8080/",
          "height": 339
        },
        "id": "F5BfiCyTrOne",
        "outputId": "b3a186e8-c341-4735-b871-27f06fc815ff"
      },
      "source": [
        "sns.heatmap(fin_cprec.corr(),annot=True)"
      ],
      "execution_count": 132,
      "outputs": [
        {
          "output_type": "execute_result",
          "data": {
            "text/plain": [
              "<matplotlib.axes._subplots.AxesSubplot at 0x7f005ae506d0>"
            ]
          },
          "metadata": {},
          "execution_count": 132
        },
        {
          "output_type": "display_data",
          "data": {
            "image/png": "[encoded data removed]",
            "text/plain": [
              "<Figure size 432x288 with 2 Axes>"
            ]
          },
          "metadata": {
            "needs_background": "light"
          }
        }
      ]
    },
    {
      "cell_type": "markdown",
      "metadata": {
        "id": "Fkn14eo_iixR"
      },
      "source": [
        "# Seperating features and target label"
      ]
    },
    {
      "cell_type": "code",
      "metadata": {
        "id": "0FOHqbSfdV3L"
      },
      "source": [
        "features = df[['N', 'P','K','temperature', 'humidity', 'ph', 'rainfall']]\n",
        "target = df['label']\n",
        "#features = df[['temperature', 'humidity', 'ph', 'rainfall']]\n",
        "labels = df['label']"
      ],
      "execution_count": 134,
      "outputs": []
    },
    {
      "cell_type": "code",
      "metadata": {
        "id": "ej9hUIpedV3N"
      },
      "source": [
        "# Initialzing empty lists to append all model's name and corresponding name\n",
        "acc = []\n",
        "model = []"
      ],
      "execution_count": 135,
      "outputs": []
    },
    {
      "cell_type": "code",
      "metadata": {
        "id": "VQkc3Wb5dV3O"
      },
      "source": [
        "# Splitting into train and test data\n",
        "\n",
        "from sklearn.model_selection import train_test_split\n",
        "Xtrain, Xtest, Ytrain, Ytest = train_test_split(features,target,test_size = 0.2,random_state =2)"
      ],
      "execution_count": 136,
      "outputs": []
    },
    {
      "cell_type": "markdown",
      "metadata": {
        "id": "JtOmKKI0dV3P"
      },
      "source": [
        "# Decision Tree"
      ]
    },
    {
      "cell_type": "code",
      "metadata": {
        "id": "gifPEdkfdV3Q",
        "colab": {
          "base_uri": "https://localhost:8080/"
        },
        "outputId": "210a28f5-78e3-40e4-d652-89df089cff92"
      },
      "source": [
        "from sklearn.tree import DecisionTreeClassifier\n",
        "\n",
        "DecisionTree = DecisionTreeClassifier(criterion=\"entropy\",random_state=2,max_depth=5)\n",
        "\n",
        "DecisionTree.fit(Xtrain,Ytrain)\n",
        "\n",
        "predicted_values = DecisionTree.predict(Xtest)\n",
        "x = metrics.accuracy_score(Ytest, predicted_values)\n",
        "acc.append(x)\n",
        "model.append('Decision Tree')\n",
        "print(\"DecisionTrees's Accuracy is: \", x*100)\n",
        "\n",
        "print(classification_report(Ytest,predicted_values))"
      ],
      "execution_count": 137,
      "outputs": [
        {
          "output_type": "stream",
          "name": "stdout",
          "text": [
            "DecisionTrees's Accuracy is:  91.13636363636364\n",
            "              precision    recall  f1-score   support\n",
            "\n",
            "       apple       1.00      1.00      1.00        13\n",
            "      banana       1.00      1.00      1.00        17\n",
            "   blackgram       0.70      1.00      0.82        16\n",
            "    chickpea       1.00      1.00      1.00        21\n",
            "     coconut       1.00      1.00      1.00        21\n",
            "      coffee       1.00      0.86      0.93        22\n",
            "      cotton       1.00      1.00      1.00        20\n",
            "      grapes       1.00      1.00      1.00        18\n",
            "        jute       1.00      0.21      0.35        28\n",
            " kidneybeans       1.00      0.79      0.88        14\n",
            "      lentil       1.00      0.96      0.98        23\n",
            "       maize       0.82      0.67      0.74        21\n",
            "       mango       1.00      0.96      0.98        26\n",
            "   mothbeans       0.74      0.89      0.81        19\n",
            "    mungbean       1.00      1.00      1.00        24\n",
            "   muskmelon       1.00      1.00      1.00        23\n",
            "      orange       1.00      1.00      1.00        29\n",
            "      papaya       1.00      1.00      1.00        19\n",
            "  pigeonpeas       0.95      1.00      0.97        18\n",
            " pomegranate       1.00      1.00      1.00        17\n",
            "        rice       0.42      1.00      0.59        16\n",
            "  watermelon       1.00      1.00      1.00        15\n",
            "\n",
            "    accuracy                           0.91       440\n",
            "   macro avg       0.94      0.92      0.91       440\n",
            "weighted avg       0.95      0.91      0.91       440\n",
            "\n"
          ]
        }
      ]
    },
    {
      "cell_type": "code",
      "metadata": {
        "id": "9Q3AEyXWdV3S"
      },
      "source": [
        "from sklearn.model_selection import cross_val_score"
      ],
      "execution_count": 138,
      "outputs": []
    },
    {
      "cell_type": "code",
      "metadata": {
        "id": "BuaN92-1dV3S"
      },
      "source": [
        "# Cross validation score (Decision Tree)\n",
        "score = cross_val_score(DecisionTree, features, target,cv=5)"
      ],
      "execution_count": 139,
      "outputs": []
    },
    {
      "cell_type": "code",
      "metadata": {
        "id": "BezBsTo2dV3T",
        "colab": {
          "base_uri": "https://localhost:8080/"
        },
        "outputId": "2828bf5a-b550-40b7-da6c-c742ae3fb392"
      },
      "source": [
        "score"
      ],
      "execution_count": 140,
      "outputs": [
        {
          "output_type": "execute_result",
          "data": {
            "text/plain": [
              "array([0.93409091, 0.90681818, 0.91136364, 0.92045455, 0.93409091])"
            ]
          },
          "metadata": {},
          "execution_count": 140
        }
      ]
    },
    {
      "cell_type": "markdown",
      "metadata": {
        "id": "0pkom2UOdV3X"
      },
      "source": [
        "# Guassian Naive Bayes"
      ]
    },
    {
      "cell_type": "code",
      "metadata": {
        "id": "XDf41BcTdV3Y",
        "colab": {
          "base_uri": "https://localhost:8080/"
        },
        "outputId": "6fe081ba-9632-4ac3-8f36-875c216c475d"
      },
      "source": [
        "from sklearn.naive_bayes import GaussianNB\n",
        "\n",
        "NaiveBayes = GaussianNB()\n",
        "\n",
        "NaiveBayes.fit(Xtrain,Ytrain)\n",
        "\n",
        "predicted_values = NaiveBayes.predict(Xtest)\n",
        "x = metrics.accuracy_score(Ytest, predicted_values)\n",
        "acc.append(x)\n",
        "model.append('Naive Bayes')\n",
        "print(\"Naive Bayes's Accuracy is: \", x)\n",
        "\n",
        "print(classification_report(Ytest,predicted_values))"
      ],
      "execution_count": 141,
      "outputs": [
        {
          "output_type": "stream",
          "name": "stdout",
          "text": [
            "Naive Bayes's Accuracy is:  0.990909090909091\n",
            "              precision    recall  f1-score   support\n",
            "\n",
            "       apple       1.00      1.00      1.00        13\n",
            "      banana       1.00      1.00      1.00        17\n",
            "   blackgram       1.00      1.00      1.00        16\n",
            "    chickpea       1.00      1.00      1.00        21\n",
            "     coconut       1.00      1.00      1.00        21\n",
            "      coffee       1.00      1.00      1.00        22\n",
            "      cotton       1.00      1.00      1.00        20\n",
            "      grapes       1.00      1.00      1.00        18\n",
            "        jute       0.88      1.00      0.93        28\n",
            " kidneybeans       1.00      1.00      1.00        14\n",
            "      lentil       1.00      1.00      1.00        23\n",
            "       maize       1.00      1.00      1.00        21\n",
            "       mango       1.00      1.00      1.00        26\n",
            "   mothbeans       1.00      1.00      1.00        19\n",
            "    mungbean       1.00      1.00      1.00        24\n",
            "   muskmelon       1.00      1.00      1.00        23\n",
            "      orange       1.00      1.00      1.00        29\n",
            "      papaya       1.00      1.00      1.00        19\n",
            "  pigeonpeas       1.00      1.00      1.00        18\n",
            " pomegranate       1.00      1.00      1.00        17\n",
            "        rice       1.00      0.75      0.86        16\n",
            "  watermelon       1.00      1.00      1.00        15\n",
            "\n",
            "    accuracy                           0.99       440\n",
            "   macro avg       0.99      0.99      0.99       440\n",
            "weighted avg       0.99      0.99      0.99       440\n",
            "\n"
          ]
        }
      ]
    },
    {
      "cell_type": "code",
      "metadata": {
        "id": "mzLkaz1-dV3Z",
        "colab": {
          "base_uri": "https://localhost:8080/"
        },
        "outputId": "8ea7ba57-5223-40d6-ec68-2f1f9372853c"
      },
      "source": [
        "# Cross validation score (NaiveBayes)\n",
        "score = cross_val_score(NaiveBayes,features,target,cv=5)\n",
        "score"
      ],
      "execution_count": 142,
      "outputs": [
        {
          "output_type": "execute_result",
          "data": {
            "text/plain": [
              "array([0.99772727, 0.99772727, 0.99090909, 0.99090909, 0.99090909])"
            ]
          },
          "metadata": {},
          "execution_count": 142
        }
      ]
    },
    {
      "cell_type": "markdown",
      "metadata": {
        "id": "tykaylhmdV3g"
      },
      "source": [
        "# Support Vector Machine (SVM)"
      ]
    },
    {
      "cell_type": "code",
      "metadata": {
        "id": "zRjdJT9fdV3j",
        "colab": {
          "base_uri": "https://localhost:8080/"
        },
        "outputId": "6c7c982b-8b53-468c-9457-ed72eea4b214"
      },
      "source": [
        "from sklearn.svm import SVC\n",
        "# data normalization with sklearn\n",
        "from sklearn.preprocessing import MinMaxScaler\n",
        "# fit scaler on training data\n",
        "norm = MinMaxScaler().fit(Xtrain)\n",
        "X_train_norm = norm.transform(Xtrain)\n",
        "# transform testing dataabs\n",
        "X_test_norm = norm.transform(Xtest)\n",
        "SVM = SVC(kernel='poly', degree=3, C=1)\n",
        "SVM.fit(X_train_norm,Ytrain)\n",
        "predicted_values = SVM.predict(X_test_norm)\n",
        "x = metrics.accuracy_score(Ytest, predicted_values)\n",
        "acc.append(x)\n",
        "model.append('SVM')\n",
        "print(\"SVM's Accuracy is: \", x)\n",
        "\n",
        "print(classification_report(Ytest,predicted_values))"
      ],
      "execution_count": 143,
      "outputs": [
        {
          "output_type": "stream",
          "name": "stdout",
          "text": [
            "SVM's Accuracy is:  0.9795454545454545\n",
            "              precision    recall  f1-score   support\n",
            "\n",
            "       apple       1.00      1.00      1.00        13\n",
            "      banana       1.00      1.00      1.00        17\n",
            "   blackgram       1.00      1.00      1.00        16\n",
            "    chickpea       1.00      1.00      1.00        21\n",
            "     coconut       1.00      1.00      1.00        21\n",
            "      coffee       0.96      1.00      0.98        22\n",
            "      cotton       1.00      1.00      1.00        20\n",
            "      grapes       1.00      1.00      1.00        18\n",
            "        jute       0.89      0.86      0.87        28\n",
            " kidneybeans       1.00      1.00      1.00        14\n",
            "      lentil       1.00      1.00      1.00        23\n",
            "       maize       1.00      0.95      0.98        21\n",
            "       mango       0.96      1.00      0.98        26\n",
            "   mothbeans       1.00      0.95      0.97        19\n",
            "    mungbean       1.00      1.00      1.00        24\n",
            "   muskmelon       1.00      1.00      1.00        23\n",
            "      orange       1.00      1.00      1.00        29\n",
            "      papaya       0.90      1.00      0.95        19\n",
            "  pigeonpeas       1.00      1.00      1.00        18\n",
            " pomegranate       1.00      1.00      1.00        17\n",
            "        rice       0.87      0.81      0.84        16\n",
            "  watermelon       1.00      1.00      1.00        15\n",
            "\n",
            "    accuracy                           0.98       440\n",
            "   macro avg       0.98      0.98      0.98       440\n",
            "weighted avg       0.98      0.98      0.98       440\n",
            "\n"
          ]
        }
      ]
    },
    {
      "cell_type": "code",
      "metadata": {
        "id": "KxtEtUrZdV3n",
        "colab": {
          "base_uri": "https://localhost:8080/"
        },
        "outputId": "61f5d84a-cb5d-4866-8d59-9a665cbe4b33"
      },
      "source": [
        "# Cross validation score (SVM)\n",
        "score = cross_val_score(SVM,features,target,cv=5)\n",
        "score"
      ],
      "execution_count": 144,
      "outputs": [
        {
          "output_type": "execute_result",
          "data": {
            "text/plain": [
              "array([0.98181818, 0.975     , 0.98409091, 0.97954545, 0.98409091])"
            ]
          },
          "metadata": {},
          "execution_count": 144
        }
      ]
    },
    {
      "cell_type": "markdown",
      "metadata": {
        "id": "RWb2rViZdV3y"
      },
      "source": [
        "# Logistic Regression"
      ]
    },
    {
      "cell_type": "code",
      "metadata": {
        "id": "mwfL4aVkdV3z",
        "colab": {
          "base_uri": "https://localhost:8080/"
        },
        "outputId": "225c19ac-beec-40d3-ed43-05fdf98a473a"
      },
      "source": [
        "from sklearn.linear_model import LogisticRegression\n",
        "\n",
        "LogReg = LogisticRegression(random_state=2)\n",
        "\n",
        "LogReg.fit(Xtrain,Ytrain)\n",
        "\n",
        "predicted_values = LogReg.predict(Xtest)\n",
        "\n",
        "x = metrics.accuracy_score(Ytest, predicted_values)\n",
        "acc.append(x)\n",
        "model.append('Logistic Regression')\n",
        "print(\"Logistic Regression's Accuracy is: \", x)\n",
        "\n",
        "print(classification_report(Ytest,predicted_values))"
      ],
      "execution_count": 145,
      "outputs": [
        {
          "output_type": "stream",
          "name": "stdout",
          "text": [
            "Logistic Regression's Accuracy is:  0.9590909090909091\n",
            "              precision    recall  f1-score   support\n",
            "\n",
            "       apple       1.00      1.00      1.00        13\n",
            "      banana       1.00      1.00      1.00        17\n",
            "   blackgram       0.87      0.81      0.84        16\n",
            "    chickpea       1.00      1.00      1.00        21\n",
            "     coconut       1.00      1.00      1.00        21\n",
            "      coffee       0.96      1.00      0.98        22\n",
            "      cotton       0.91      1.00      0.95        20\n",
            "      grapes       1.00      1.00      1.00        18\n",
            "        jute       0.85      0.82      0.84        28\n",
            " kidneybeans       1.00      1.00      1.00        14\n",
            "      lentil       1.00      0.96      0.98        23\n",
            "       maize       1.00      0.86      0.92        21\n",
            "       mango       1.00      1.00      1.00        26\n",
            "   mothbeans       0.86      0.95      0.90        19\n",
            "    mungbean       0.96      1.00      0.98        24\n",
            "   muskmelon       1.00      1.00      1.00        23\n",
            "      orange       1.00      1.00      1.00        29\n",
            "      papaya       0.82      0.95      0.88        19\n",
            "  pigeonpeas       1.00      1.00      1.00        18\n",
            " pomegranate       1.00      1.00      1.00        17\n",
            "        rice       0.92      0.75      0.83        16\n",
            "  watermelon       1.00      1.00      1.00        15\n",
            "\n",
            "    accuracy                           0.96       440\n",
            "   macro avg       0.96      0.96      0.96       440\n",
            "weighted avg       0.96      0.96      0.96       440\n",
            "\n"
          ]
        }
      ]
    },
    {
      "cell_type": "code",
      "metadata": {
        "id": "4iB_lSgudV34",
        "colab": {
          "base_uri": "https://localhost:8080/"
        },
        "outputId": "56b5adc5-313d-4a50-a90b-1e13be222e13"
      },
      "source": [
        "# Cross validation score (Logistic Regression)\n",
        "score = cross_val_score(LogReg,features,target,cv=5)\n",
        "score"
      ],
      "execution_count": 146,
      "outputs": [
        {
          "output_type": "execute_result",
          "data": {
            "text/plain": [
              "array([0.97272727, 0.94545455, 0.96363636, 0.95681818, 0.95909091])"
            ]
          },
          "metadata": {},
          "execution_count": 146
        }
      ]
    },
    {
      "cell_type": "markdown",
      "metadata": {
        "id": "9Pv1YfOZdV3-"
      },
      "source": [
        "# Random Forest"
      ]
    },
    {
      "cell_type": "code",
      "metadata": {
        "id": "IrJ3O2thdV3-",
        "colab": {
          "base_uri": "https://localhost:8080/"
        },
        "outputId": "c8f9a952-3030-4b41-bcc7-a8605663b4ca"
      },
      "source": [
        "from sklearn.ensemble import RandomForestClassifier\n",
        "\n",
        "RF = RandomForestClassifier(n_estimators=20, random_state=0)\n",
        "RF.fit(Xtrain,Ytrain)\n",
        "\n",
        "predicted_values = RF.predict(Xtest)\n",
        "\n",
        "x = metrics.accuracy_score(Ytest, predicted_values)\n",
        "acc.append(x)\n",
        "model.append('RF')\n",
        "print(\"RF's Accuracy is: \", x)\n",
        "\n",
        "print(classification_report(Ytest,predicted_values))"
      ],
      "execution_count": 147,
      "outputs": [
        {
          "output_type": "stream",
          "name": "stdout",
          "text": [
            "RF's Accuracy is:  0.9886363636363636\n",
            "              precision    recall  f1-score   support\n",
            "\n",
            "       apple       1.00      1.00      1.00        13\n",
            "      banana       1.00      1.00      1.00        17\n",
            "   blackgram       0.89      1.00      0.94        16\n",
            "    chickpea       1.00      1.00      1.00        21\n",
            "     coconut       1.00      1.00      1.00        21\n",
            "      coffee       1.00      1.00      1.00        22\n",
            "      cotton       1.00      1.00      1.00        20\n",
            "      grapes       1.00      1.00      1.00        18\n",
            "        jute       0.90      1.00      0.95        28\n",
            " kidneybeans       1.00      1.00      1.00        14\n",
            "      lentil       1.00      1.00      1.00        23\n",
            "       maize       1.00      1.00      1.00        21\n",
            "       mango       1.00      1.00      1.00        26\n",
            "   mothbeans       1.00      0.89      0.94        19\n",
            "    mungbean       1.00      1.00      1.00        24\n",
            "   muskmelon       1.00      1.00      1.00        23\n",
            "      orange       1.00      1.00      1.00        29\n",
            "      papaya       1.00      1.00      1.00        19\n",
            "  pigeonpeas       1.00      1.00      1.00        18\n",
            " pomegranate       1.00      1.00      1.00        17\n",
            "        rice       1.00      0.81      0.90        16\n",
            "  watermelon       1.00      1.00      1.00        15\n",
            "\n",
            "    accuracy                           0.99       440\n",
            "   macro avg       0.99      0.99      0.99       440\n",
            "weighted avg       0.99      0.99      0.99       440\n",
            "\n"
          ]
        }
      ]
    },
    {
      "cell_type": "code",
      "metadata": {
        "id": "KskMgqV3dV3_",
        "colab": {
          "base_uri": "https://localhost:8080/"
        },
        "outputId": "97937936-2b7a-4784-90ba-856e7efd2b08"
      },
      "source": [
        "# Cross validation score (Random Forest)\n",
        "score = cross_val_score(RF,features,target,cv=5)\n",
        "score"
      ],
      "execution_count": 148,
      "outputs": [
        {
          "output_type": "execute_result",
          "data": {
            "text/plain": [
              "array([0.99545455, 0.99545455, 0.99318182, 0.98636364, 0.98636364])"
            ]
          },
          "metadata": {},
          "execution_count": 148
        }
      ]
    },
    {
      "cell_type": "markdown",
      "metadata": {
        "id": "SjN3fOwjdV4B"
      },
      "source": [
        "# XGBoost"
      ]
    },
    {
      "cell_type": "code",
      "metadata": {
        "scrolled": true,
        "id": "rnYOnaJqdV4C",
        "colab": {
          "base_uri": "https://localhost:8080/"
        },
        "outputId": "dcace480-d5c3-4cda-f339-9af8cc73175c"
      },
      "source": [
        "import xgboost as xgb\n",
        "XB = xgb.XGBClassifier()\n",
        "XB.fit(Xtrain,Ytrain)\n",
        "\n",
        "predicted_values = XB.predict(Xtest)\n",
        "\n",
        "x = metrics.accuracy_score(Ytest, predicted_values)\n",
        "acc.append(x)\n",
        "model.append('XGBoost')\n",
        "print(\"XGBoost's Accuracy is: \", x)\n",
        "\n",
        "print(classification_report(Ytest,predicted_values))"
      ],
      "execution_count": 149,
      "outputs": [
        {
          "output_type": "stream",
          "name": "stdout",
          "text": [
            "XGBoost's Accuracy is:  0.9886363636363636\n",
            "              precision    recall  f1-score   support\n",
            "\n",
            "       apple       1.00      1.00      1.00        13\n",
            "      banana       1.00      1.00      1.00        17\n",
            "   blackgram       0.89      1.00      0.94        16\n",
            "    chickpea       1.00      1.00      1.00        21\n",
            "     coconut       1.00      1.00      1.00        21\n",
            "      coffee       1.00      0.95      0.98        22\n",
            "      cotton       1.00      1.00      1.00        20\n",
            "      grapes       1.00      1.00      1.00        18\n",
            "        jute       0.93      0.96      0.95        28\n",
            " kidneybeans       1.00      1.00      1.00        14\n",
            "      lentil       1.00      1.00      1.00        23\n",
            "       maize       1.00      1.00      1.00        21\n",
            "       mango       1.00      1.00      1.00        26\n",
            "   mothbeans       1.00      0.89      0.94        19\n",
            "    mungbean       1.00      1.00      1.00        24\n",
            "   muskmelon       1.00      1.00      1.00        23\n",
            "      orange       1.00      1.00      1.00        29\n",
            "      papaya       1.00      1.00      1.00        19\n",
            "  pigeonpeas       1.00      1.00      1.00        18\n",
            " pomegranate       1.00      1.00      1.00        17\n",
            "        rice       0.94      0.94      0.94        16\n",
            "  watermelon       1.00      1.00      1.00        15\n",
            "\n",
            "    accuracy                           0.99       440\n",
            "   macro avg       0.99      0.99      0.99       440\n",
            "weighted avg       0.99      0.99      0.99       440\n",
            "\n"
          ]
        }
      ]
    },
    {
      "cell_type": "code",
      "metadata": {
        "id": "zOhZa6EHdV4E",
        "colab": {
          "base_uri": "https://localhost:8080/"
        },
        "outputId": "76f93dd1-ad5b-436a-d256-a61bf6235844"
      },
      "source": [
        "# Cross validation score (XGBoost)\n",
        "score = cross_val_score(XB,features,target,cv=5)\n",
        "score"
      ],
      "execution_count": 150,
      "outputs": [
        {
          "output_type": "execute_result",
          "data": {
            "text/plain": [
              "array([0.98863636, 0.99318182, 0.98636364, 0.98181818, 0.99318182])"
            ]
          },
          "metadata": {},
          "execution_count": 150
        }
      ]
    },
    {
      "cell_type": "markdown",
      "metadata": {
        "id": "BVKxTkzAdV4I"
      },
      "source": [
        "## Accuracy Comparison"
      ]
    },
    {
      "cell_type": "code",
      "metadata": {
        "id": "KUV2i1BidV4I",
        "colab": {
          "base_uri": "https://localhost:8080/",
          "height": 498
        },
        "outputId": "6b6ac600-ea4d-4fea-df46-4604c3315618"
      },
      "source": [
        "plt.figure(figsize=[10,5],dpi = 100)\n",
        "plt.title('Accuracy Comparison')\n",
        "plt.xlabel('Accuracy')\n",
        "plt.ylabel('Algorithm')\n",
        "sns.barplot(x = acc,y = model,palette='dark')"
      ],
      "execution_count": 151,
      "outputs": [
        {
          "output_type": "execute_result",
          "data": {
            "text/plain": [
              "<matplotlib.axes._subplots.AxesSubplot at 0x7f005b094790>"
            ]
          },
          "metadata": {},
          "execution_count": 151
        },
        {
          "output_type": "display_data",
          "data": {
            "image/png": "[encoded data removed]",
            "text/plain": [
              "<Figure size 1000x500 with 1 Axes>"
            ]
          },
          "metadata": {
            "needs_background": "light"
          }
        }
      ]
    },
    {
      "cell_type": "code",
      "metadata": {
        "id": "ZsQVsDAfdV4J",
        "colab": {
          "base_uri": "https://localhost:8080/"
        },
        "outputId": "e965caf7-9d4b-4d2e-8d53-e60c13f84afb"
      },
      "source": [
        "accuracy_models = dict(zip(model, acc))\n",
        "for k, v in accuracy_models.items():\n",
        "    print (k, '-->', v)"
      ],
      "execution_count": 152,
      "outputs": [
        {
          "output_type": "stream",
          "name": "stdout",
          "text": [
            "Decision Tree --> 0.9113636363636364\n",
            "Naive Bayes --> 0.990909090909091\n",
            "SVM --> 0.9795454545454545\n",
            "Logistic Regression --> 0.9590909090909091\n",
            "RF --> 0.9886363636363636\n",
            "XGBoost --> 0.9886363636363636\n"
          ]
        }
      ]
    },
    {
      "cell_type": "markdown",
      "metadata": {
        "id": "uOtuRfDXdV4K"
      },
      "source": [
        "## Making a prediction"
      ]
    },
    {
      "cell_type": "code",
      "metadata": {
        "id": "tpRvyTs5dV4K",
        "colab": {
          "base_uri": "https://localhost:8080/"
        },
        "outputId": "0808548b-f3fb-4c80-d71d-d21a1b8010ce"
      },
      "source": [
        "data = np.array([[104,18, 30, 23.603016, 60.3, 6.7, 140.91]])\n",
        "prediction = RF.predict(data)\n",
        "print(prediction)"
      ],
      "execution_count": 153,
      "outputs": [
        {
          "output_type": "stream",
          "name": "stdout",
          "text": [
            "['coffee']\n"
          ]
        }
      ]
    },
    {
      "cell_type": "code",
      "metadata": {
        "id": "lTQNbpcCdV4L",
        "colab": {
          "base_uri": "https://localhost:8080/"
        },
        "outputId": "380e208f-5ff7-4299-8f1b-ed288e2ed1ea"
      },
      "source": [
        "data = np.array([[83, 45, 60, 28, 70.3, 7.0, 150.9]])\n",
        "prediction = RF.predict(data)\n",
        "print(prediction)"
      ],
      "execution_count": 154,
      "outputs": [
        {
          "output_type": "stream",
          "name": "stdout",
          "text": [
            "['coffee']\n"
          ]
        }
      ]
    },
    {
      "cell_type": "code",
      "metadata": {
        "id": "0TgVZrEBu7QP"
      },
      "source": [
        ""
      ],
      "execution_count": 154,
      "outputs": []
    }
  ]
}